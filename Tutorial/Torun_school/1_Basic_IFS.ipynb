{
 "cells": [
  {
   "cell_type": "markdown",
   "id": "3c53d500-f9f3-4dbe-9770-e835d11b25a6",
   "metadata": {},
   "source": [
    "# Tutorial on how to fit emission line and use IFU data - KMOS/SINFONI/JWST etc"
   ]
  },
  {
   "cell_type": "markdown",
   "id": "8123e0db-64ce-4cd4-abda-7234d63a60d2",
   "metadata": {},
   "source": [
    "Here I am going to go through basic of analysing IFU data and fitting emission lines. First, in order to quickly look at IFU cubes, I recommend QFits. https://www.mpe.mpg.de/~ott/QFitsView/. \n",
    "\n",
    "To read more about Integral Field Spectroscopy, I recommend section 2.2 of my thesis: http://etheses.dur.ac.uk/13311/1/Thesis_cor_mk_II.pdf?DDD25+ or from Chris Harrison; Chapter 2. http://etheses.dur.ac.uk/10744/1/cmh_thesis.pdf?DDD25+\n"
   ]
  },
  {
   "cell_type": "markdown",
   "id": "d8051688-a9b6-4b3c-9e6f-c0b53b5171c0",
   "metadata": {},
   "source": [
    "# Dealing wih IFU data"
   ]
  },
  {
   "cell_type": "markdown",
   "id": "e05ac9ea-b0bd-4cff-b777-b39055a0cf6a",
   "metadata": {},
   "source": [
    "We will first start with loading the cube and extracting a spectrum. We will then continue to write a simple fitting code to fit the spectrum from the previous tutorial. \n",
    "\n",
    "Lets start with importing basic libraries. This is a start of every code I write. "
   ]
  },
  {
   "cell_type": "code",
   "execution_count": null,
   "id": "648946f5-8207-4dba-bf42-76effb944ccf",
   "metadata": {
    "tags": []
   },
   "outputs": [],
   "source": [
    "#importing modules\n",
    "import numpy as np\n",
    "import matplotlib.pyplot as plt; plt.ioff()\n",
    "\n",
    "from astropy.io import fits as pyfits\n",
    "from astropy import wcs\n",
    "from astropy.table import Table, join, vstack\n",
    "from matplotlib.backends.backend_pdf import PdfPages\n",
    "import pickle\n",
    "from scipy.optimize import curve_fit\n",
    "\n",
    "import emcee\n",
    "import corner \n",
    "\n",
    "from os.path import exists\n",
    "nan= float('nan')\n",
    "\n",
    "pi= np.pi\n",
    "e= np.e\n",
    "\n",
    "plt.close('all')\n",
    "c= 3.*10**8\n",
    "h= 6.62*10**-34\n",
    "k= 1.38*10**-23\n",
    "\n",
    "\n",
    "\n",
    "PATH='/Users/jansen/My Drive/Astro/'\n"
   ]
  },
  {
   "cell_type": "markdown",
   "id": "0f3c841e",
   "metadata": {},
   "source": [
    "## Loading the JWST IFS cube. \n",
    "\n",
    "We will now load the IFU cube and extract all of the import information. We need to extract the wavelength grid and the data cube and the header information. "
   ]
  },
  {
   "cell_type": "code",
   "execution_count": null,
   "id": "c6face23-d453-48dc-b970-215697c96c4e",
   "metadata": {
    "tags": []
   },
   "outputs": [],
   "source": [
    "path = '/Users/jansen/JADES/GA_NIFS/IFS_data_v1/' \n",
    "file_name = '5001-GS-3.47-S_jw1216_o005_ff_px0.05_drizzle_ODfde98_3_VSC_MRC_MSA_m2ff_CTX1068.pmap_v1.8.2_g235h-f170lp_cgs_s3d.fits' # Full path to the file\n",
    "\n",
    "Full_path = path + file_name\n",
    "\n",
    "with pyfits.open(Full_path, memmap=False) as hdulist:\n",
    "\n",
    "    Flux_cube = hdulist['SCI'].data *1e4 * 1e15\n",
    "    Header = hdulist['SCI'].header\n",
    "\n",
    "    n_channels = Header['NAXIS3'] # Extract the number pixels in the third axis (wavelength)\n",
    "    obs_wave = Header['CRVAL3'] + (np.arange(n_channels) - (Header['CRPIX3'] - 1.0))*Header['CDELT3'] # Extract the wavelength grid\n",
    "\n",
    "\n",
    "print('The shape of the data cube is as follows', Flux_cube.shape)\n",
    "z = 3.472\n",
    "\n",
    "plt.show()\n"
   ]
  },
  {
   "cell_type": "markdown",
   "id": "84a66511",
   "metadata": {},
   "source": [
    "## Extracting a single spaxel spectrum\n",
    "\n",
    "When we looked in QFitsView we could see the individual spaxel spectrum. In python we can to this with simple indexing the right part of the Flux_cube array and also plot it. "
   ]
  },
  {
   "cell_type": "code",
   "execution_count": null,
   "id": "9111a58b-d29a-48d6-999e-14db3b697f04",
   "metadata": {
    "tags": []
   },
   "outputs": [],
   "source": [
    "f, ax = plt.subplots(1, 1, figsize=(10, 5))\n",
    "\n",
    "x,y  = 43,51 # Coordinates of the spaxel we want to extract the spectrum from\n",
    "Flux_spaxel = Flux_cube[:, y,x] # Extract the spectrum of the spaxel at position (x,y)\n",
    "ax.plot( obs_wave, Flux_spaxel, drawstyle='steps-mid')\n",
    "ax.set_xlabel('wavelength [microns]')\n",
    "ax.set_ylabel('Flux density - x1e-15 erg/s/micron')\n",
    "\n",
    "\n",
    "\n",
    "ylow = -0.\n",
    "yhig = 0.5\n",
    "\n",
    "ax.vlines(0.5008*(1+z),ylow,yhig, linestyle='dashed',color='orange', alpha=0.8)\n",
    "ax.vlines(0.6300*(1+z),ylow,yhig, linestyle='dashed',color='orange', alpha=0.8)\n",
    "\n",
    "\n",
    "ax.vlines(0.6563*(1+z),ylow,yhig, linestyle='dashed',color='k', alpha=0.5)\n",
    "ax.vlines(0.4861*(1+z),ylow,yhig, linestyle='dashed',color='k', alpha=0.5)\n",
    "\n",
    "\n",
    "ax.vlines(0.6731*(1+z),ylow,yhig, linestyle='dashed',color='k', alpha=0.5)\n",
    "\n",
    "\n",
    "plt.show()"
   ]
  },
  {
   "cell_type": "markdown",
   "id": "f993d19f",
   "metadata": {},
   "source": [
    "We can also zoom in on th Halpha, [NII] and [SII] emission lines, just simply using the ax.set_xlim()"
   ]
  },
  {
   "cell_type": "code",
   "execution_count": null,
   "id": "52d84ec4",
   "metadata": {},
   "outputs": [],
   "source": [
    "f, ax = plt.subplots(1, 1, figsize=(10, 5))\n",
    "\n",
    "x,y  = 43,51  # Coordinates of the spaxel we want to extract the spectrum from\n",
    "Flux_spaxel = Flux_cube[:, y,x] # Extract the spectrum of the spaxel at position (x,y)\n",
    "ax.plot( obs_wave, Flux_spaxel, drawstyle='steps-mid')\n",
    "ax.set_xlabel('wavelength [microns]')\n",
    "ax.set_ylabel('Flux density - x1e-15 erg/s/micron')\n",
    "\n",
    "ylow = -0.0\n",
    "yhig = 0.5\n",
    "\n",
    "ax.vlines(0.5008*(1+z),ylow,yhig, linestyle='dashed',color='orange', alpha=0.8)\n",
    "ax.vlines(0.6300*(1+z),ylow,yhig, linestyle='dashed',color='orange', alpha=0.8)\n",
    "\n",
    "ax.vlines(0.6563*(1+z),ylow,yhig, linestyle='dashed',color='k', alpha=0.5)\n",
    "ax.vlines(0.4862*(1+z),ylow,yhig, linestyle='dashed',color='k', alpha=0.5)\n",
    "\n",
    "ax.vlines(0.6731*(1+z),ylow,yhig, linestyle='dashed',color='k', alpha=0.5)\n",
    "\n",
    "ax.set_xlim(2.15,2.3)\n",
    "\n",
    "plt.show()"
   ]
  },
  {
   "cell_type": "markdown",
   "id": "cc8a92a6",
   "metadata": {},
   "source": [
    "or we can look at the [OIII] + Hbeta"
   ]
  },
  {
   "cell_type": "code",
   "execution_count": null,
   "id": "ae8dc8f0",
   "metadata": {},
   "outputs": [],
   "source": [
    "f, ax = plt.subplots(1, 1, figsize=(10, 5))\n",
    "\n",
    "x,y  = 43,51  # Coordinates of the spaxel we want to extract the spectrum from\n",
    "Flux_spaxel = Flux_cube[:, y,x] # Extract the spectrum of the spaxel at position (x,y)\n",
    "ax.plot( obs_wave, Flux_spaxel, drawstyle='steps-mid')\n",
    "ax.set_xlabel('wavelength [microns]')\n",
    "ax.set_ylabel('Flux density - x1e-15 erg/s/micron')\n",
    "\n",
    "ylow = -0.0\n",
    "yhig = 0.5\n",
    "\n",
    "ax.vlines(0.5008*(1+z),ylow,yhig, linestyle='dashed',color='orange', alpha=0.8)\n",
    "ax.vlines(0.6300*(1+z),ylow,yhig, linestyle='dashed',color='orange', alpha=0.8)\n",
    "\n",
    "ax.vlines(0.6563*(1+z),ylow,yhig, linestyle='dashed',color='k', alpha=0.5)\n",
    "ax.vlines(0.4861*(1+z),ylow,yhig, linestyle='dashed',color='k', alpha=0.5)\n",
    "\n",
    "ax.vlines(0.6731*(1+z),ylow,yhig, linestyle='dashed',color='k', alpha=0.5)\n",
    "\n",
    "ax.set_xlim(2.8,3.1)\n",
    "\n",
    "plt.show()"
   ]
  },
  {
   "cell_type": "markdown",
   "id": "691fc819",
   "metadata": {},
   "source": [
    "## Extracting a spectrum from multiple spaxel together - circular aperture \n",
    "\n",
    "The best thing about IFS is that we extract spectrum from anywhere in the galaxy to investigate the properties in that section. We can use a very simple circular mask to setup to create a spectrum with a sum of all of the spaxels. "
   ]
  },
  {
   "cell_type": "code",
   "execution_count": null,
   "id": "89ae5d4a",
   "metadata": {},
   "outputs": [],
   "source": [
    "def sp_circ_ap(cenx,ceny,rad,Flux_cube):\n",
    "\n",
    "    nwl = len(Flux_cube[:,0,0])\n",
    "    nx = len(Flux_cube[0,0,:])\n",
    "    ny = len(Flux_cube[0,:,0])\n",
    "    # creates array with one spectrum per row\n",
    "    intermarray = np.full((nwl,nx*ny), np.nan)\n",
    "    # fills it with nans\n",
    "    \n",
    "    nloop = 0\n",
    "    # loop on data\n",
    "    for x in range(nx) :\n",
    "        for y in range(ny) :  \n",
    "            distance = np.sqrt((x-cenx)**2+(y-ceny)**2)\n",
    "            if distance < rad :\n",
    "                intermarray[:,int(nloop)] = Flux_cube[:,int(y),int(x)]\n",
    "                nloop += 1\n",
    "               \n",
    "    # average\n",
    "    outspec = np.nansum(intermarray,axis=1)\n",
    "    return outspec\n",
    "\n",
    "# This function extracts the spectrum from a circular aperture of radius 5 pixels centered on the sp\n",
    "D1_spec = sp_circ_ap(44,47,5,Flux_cube) # 5 pixel radius aperture centered on the spaxel at (44,47)\n",
    "\n",
    "D1_spec = np.ma.masked_invalid(D1_spec ) # Mask invalid values (nans, infs etc.)\n",
    "\n",
    "f, ax = plt.subplots(1, 1, figsize=(10, 5))\n",
    "\n",
    "x,y  = 44,47 # Coordinates of the spaxel we want to extract the spectrum from\n",
    "ax.plot( obs_wave, D1_spec, drawstyle='steps-mid')\n",
    "ax.set_xlabel('wavelength [microns]')\n",
    "ax.set_ylabel('Flux density - x1e-15 erg/s/micron')\n",
    "\n",
    "ylow = -0.0\n",
    "yhig = 25\n",
    "\n",
    "ax.vlines(0.5008*(1+z),ylow,yhig, linestyle='dashed',color='orange', alpha=0.8)\n",
    "ax.vlines(0.6300*(1+z),ylow,yhig, linestyle='dashed',color='orange', alpha=0.8)\n",
    "\n",
    "ax.vlines(0.6563*(1+z),ylow,yhig, linestyle='dashed',color='k', alpha=0.5)\n",
    "ax.vlines(0.4861*(1+z),ylow,yhig, linestyle='dashed',color='k', alpha=0.5)\n",
    "\n",
    "ax.vlines(0.6731*(1+z),ylow,yhig, linestyle='dashed',color='k', alpha=0.5)\n",
    "ax.vlines(0.6718*(1+z),ylow,yhig, linestyle='dashed',color='k', alpha=0.5)\n",
    "\n",
    "ax.set_xlim(2.9,3.03)\n",
    "ax.set_ylim(-0.,30.)\n",
    "\n",
    "plt.show()"
   ]
  },
  {
   "cell_type": "markdown",
   "id": "cfa79234",
   "metadata": {},
   "source": [
    "## Create a emission line map\n",
    "\n",
    "We can also create a very simple linemap similar to what way we did it in QFitsView. This way we can actually visualize the emission lines and they spatial extent."
   ]
  },
  {
   "cell_type": "code",
   "execution_count": null,
   "id": "d74f6ea0",
   "metadata": {},
   "outputs": [],
   "source": [
    "# Creating the linemap:\n",
    "\n",
    "from QubeSpec import Cube\n",
    "\n",
    "\n",
    "channel0, channel1 = 3211, 3227 # Values from QFitsView from around Halpha emission line\n",
    "\n",
    "# Creating a linemap:\n",
    "Linemap = np.sum(Flux_cube[channel0:channel1, :,:], axis=(0))\n",
    "\n",
    "# and now plot\n",
    "f, ax = plt.subplots(1)\n",
    "\n",
    "ax.imshow(Linemap, cmap='viridis', vmin=0, origin='lower')\n",
    "\n",
    "plt.show()"
   ]
  }
 ],
 "metadata": {
  "kernelspec": {
   "display_name": "base",
   "language": "python",
   "name": "python3"
  },
  "language_info": {
   "codemirror_mode": {
    "name": "ipython",
    "version": 3
   },
   "file_extension": ".py",
   "mimetype": "text/x-python",
   "name": "python",
   "nbconvert_exporter": "python",
   "pygments_lexer": "ipython3",
   "version": "3.11.5"
  }
 },
 "nbformat": 4,
 "nbformat_minor": 5
}
