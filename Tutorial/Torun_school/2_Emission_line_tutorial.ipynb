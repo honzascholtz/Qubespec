{
 "cells": [
  {
   "cell_type": "markdown",
   "id": "3c53d500-f9f3-4dbe-9770-e835d11b25a6",
   "metadata": {},
   "source": [
    "# Tutorial on how to fit emission line and use IFU data - KMOS/SINFONI/JWST etc"
   ]
  },
  {
   "cell_type": "markdown",
   "id": "8123e0db-64ce-4cd4-abda-7234d63a60d2",
   "metadata": {},
   "source": [
    "Here I am going to go through basic of analysing IFU data and fitting emission lines. First, in order to quickly look at IFU cubes, I recommend QFits. https://www.mpe.mpg.de/~ott/QFitsView/. \n",
    "\n",
    "To read more about Integral Field Spectroscopy, I recommend section 2.2 of my thesis: http://etheses.dur.ac.uk/13311/1/Thesis_cor_mk_II.pdf?DDD25+ or from Chris Harrison; Chapter 2. http://etheses.dur.ac.uk/10744/1/cmh_thesis.pdf?DDD25+\n"
   ]
  },
  {
   "cell_type": "markdown",
   "id": "a8de4866",
   "metadata": {},
   "source": [
    "# Dealing wih IFU data"
   ]
  },
  {
   "cell_type": "markdown",
   "id": "8b426667",
   "metadata": {},
   "source": [
    "We will first start with loading the cube and extracting a spectrum. We will then continue to write a simple fitting code to fit the spectrum from the previous tutorial. \n",
    "\n",
    "Lets start with importing basic libraries. This is a start of every code I write. "
   ]
  },
  {
   "cell_type": "code",
   "execution_count": 22,
   "id": "7400bfbd",
   "metadata": {},
   "outputs": [],
   "source": [
    "#importing modules\n",
    "import numpy as np\n",
    "import matplotlib.pyplot as plt; plt.ioff()\n",
    "\n",
    "from astropy.io import fits as pyfits\n",
    "from astropy import wcs\n",
    "from astropy.table import Table, join, vstack\n",
    "from matplotlib.backends.backend_pdf import PdfPages\n",
    "import pickle\n",
    "from scipy.optimize import curve_fit\n",
    "\n",
    "import emcee\n",
    "import corner \n",
    "\n",
    "from os.path import exists\n",
    "nan= float('nan')\n",
    "\n",
    "pi= np.pi\n",
    "e= np.e\n",
    "\n",
    "plt.close('all')\n",
    "c= 3.*10**8\n",
    "h= 6.62*10**-34\n",
    "k= 1.38*10**-23\n",
    "\n",
    "\n",
    "\n",
    "PATH='/Users/jansen/My Drive/Astro/'\n"
   ]
  },
  {
   "cell_type": "markdown",
   "id": "836dd48a",
   "metadata": {},
   "source": [
    "## Loading the JWST IFS cube. \n",
    "\n",
    "We will now load the IFU cube and extract all of the import information. We need to extract the wavelength grid and the data cube and the header information. "
   ]
  },
  {
   "cell_type": "code",
   "execution_count": 23,
   "id": "a4c25879",
   "metadata": {},
   "outputs": [],
   "source": [
    "path = '/Users/jansen/JADES/GA_NIFS/IFS_data_v1/' \n",
    "file_name = '5001-GS-3.47-S_jw1216_o005_ff_px0.05_drizzle_ODfde98_3_VSC_MRC_MSA_m2ff_CTX1068.pmap_v1.8.2_g235h-f170lp_cgs_s3d.fits' # Full path to the file\n",
    "\n",
    "Full_path = path + file_name\n",
    "\n",
    "with pyfits.open(Full_path, memmap=False) as hdulist:\n",
    "\n",
    "    Flux_cube = hdulist['SCI'].data *1e4 * 1e15\n",
    "    Header = hdulist['SCI'].header\n",
    "\n",
    "    n_channels = Header['NAXIS3'] # Extract the number pixels in the third axis (wavelength)\n",
    "    obs_wave = Header['CRVAL3'] + (np.arange(n_channels) - (Header['CRPIX3'] - 1.0))*Header['CDELT3'] # Extract the wavelength grid\n",
    "\n",
    "\n",
    "z = 3.471\n",
    "\n",
    "plt.show()\n"
   ]
  },
  {
   "cell_type": "markdown",
   "id": "013e6236",
   "metadata": {},
   "source": [
    "## Extracting a spectrum from multiple spaxel together - circular aperture \n",
    "\n",
    "The best thing about IFS is that we extract spectrum from anywhere in the galaxy to investigate the properties in that section. We can use a very simple circular mask to setup to create a spectrum with a sum of all of the spaxels. "
   ]
  },
  {
   "cell_type": "code",
   "execution_count": 24,
   "id": "76b777eb",
   "metadata": {},
   "outputs": [
    {
     "data": {
      "image/png": "[encoded data removed]",
      "text/plain": [
       "<Figure size 1000x500 with 1 Axes>"
      ]
     },
     "metadata": {},
     "output_type": "display_data"
    }
   ],
   "source": [
    "def sp_circ_ap(cenx,ceny,rad,Flux_cube):\n",
    "\n",
    "    nwl = len(Flux_cube[:,0,0])\n",
    "    nx = len(Flux_cube[0,0,:])\n",
    "    ny = len(Flux_cube[0,:,0])\n",
    "    # creates array with one spectrum per row\n",
    "    intermarray = np.full((nwl,nx*ny), np.nan)\n",
    "    # fills it with nans\n",
    "    \n",
    "    nloop = 0\n",
    "    # loop on data\n",
    "    for x in range(nx) :\n",
    "        for y in range(ny) :  \n",
    "            distance = np.sqrt((x-cenx)**2+(y-ceny)**2)\n",
    "            if distance < rad :\n",
    "                intermarray[:,int(nloop)] = Flux_cube[:,int(y),int(x)]\n",
    "                nloop += 1\n",
    "               \n",
    "    # average\n",
    "    outspec = np.nansum(intermarray,axis=1)\n",
    "    return outspec\n",
    "\n",
    "# This function extracts the spectrum from a circular aperture of radius 5 pixels centered on the sp\n",
    "D1_spec = sp_circ_ap(44,47,5,Flux_cube) # 5 pixel radius aperture centered on the spaxel at (44,47)\n",
    "\n",
    "D1_spec = np.ma.masked_invalid(D1_spec ) # Mask invalid values (nans, infs etc.)\n",
    "\n",
    "f, ax = plt.subplots(1, 1, figsize=(10, 5))\n",
    "\n",
    "x,y  = 44,47 # Coordinates of the spaxel we want to extract the spectrum from\n",
    "ax.plot( obs_wave, D1_spec, drawstyle='steps-mid')\n",
    "ax.set_xlabel('wavelength [microns]')\n",
    "ax.set_ylabel('Flux density - x1e-15 erg/s/micron')\n",
    "\n",
    "ylow = -0.0\n",
    "yhig = 25\n",
    "\n",
    "ax.vlines(0.500824*(1+z),ylow,yhig, linestyle='dashed',color='orange', alpha=0.8)\n",
    "\n",
    "ax.vlines(0.65645*(1+z),ylow,yhig, linestyle='dashed',color='k', alpha=0.5)\n",
    "ax.vlines(0.486263*(1+z),ylow,yhig, linestyle='dashed',color='k', alpha=0.5)\n",
    "\n",
    "ax.vlines(0.673267*(1+z),ylow,yhig, linestyle='dashed',color='k', alpha=0.5)\n",
    "\n",
    "ax.set_xlim(2.15,2.25)\n",
    "ax.set_ylim(-0.,30.)\n",
    "\n",
    "plt.show()"
   ]
  },
  {
   "cell_type": "markdown",
   "id": "a37c3cba-1be8-4a3a-822f-8cd847beb3f1",
   "metadata": {},
   "source": [
    "We can see a very bright detection of narrow [OIII], but there is also a fainter line right next to it at 2.21 and 2.23 microns. This is the other part of [OIII] doublet and Hbeta line. There is one at restframe 4960 and 4861 angstroms. When fitting the [OIII]5008, we wil have to fit the [OIII] 4960 (full doublet) as well and the Hbeta 4861. \n",
    "\n",
    "So in summary we will be fitting the following models: \n",
    "1) [OIII]5008,4960 - single Gaussian to each member of the [OIII] doublet.  \n",
    "2) Hbeta  - one gaussian components\n",
    "4) Continuum - We need to fit the continuum. KMOS and SINFONI are not very sensitive to the features of the continuum hence fitting a line with gradient and normalization is enough. For high SNR data (maybe from JWST?) or local galaxies we would have to fit ppxf models - I have never done it though. \n",
    "\n",
    "However, we do not need to fit 3 parameters for each gaussian (peak, location and width) as we can make some assumptions and use some physics.\n",
    "1) First of all we will assume that all of these emission lines are coming from the same gas - hence they will have the same redshift\n",
    "2) Because they are coming from the same gas, they have the samw width - sigma (or FWHM) of the line\n",
    "3) The [OIII] has fixed line ratio between the two lines - the [OIII]4960 line has 1/3 of the flux of the [OIII]5008 line. Since the width of these lines is the same, we can say that the ratio of the peaks of these two lines is 2.99. \n",
    "\n",
    "This drastically reduces the amount of free parameters - from 11 to 6. \n",
    "\n",
    "In order to fit these models we will use least square fitting. "
   ]
  },
  {
   "cell_type": "code",
   "execution_count": 25,
   "id": "62aea68f-e346-4e53-84a0-440333005836",
   "metadata": {
    "tags": []
   },
   "outputs": [],
   "source": [
    "# Defining the model for fitting emission lines around Halpha including of course Halpha itself. \n",
    "# Setting up a single Gaussian - will be used later \n",
    "def gauss(x, k, mu,FWHM):\n",
    "    sig = FWHM/2.35482/3e5*mu\n",
    "    expo= -((x-mu)**2)/(2*sig*sig) \n",
    "    y= k* e**expo\n",
    "    return y\n",
    "\n",
    "# Setting up the Halpha model:\n",
    "# First we calculate the observed frame wavelengths of the lines\n",
    "# Then we calculate the individfual components - Halpha, [NII] and [SII]\n",
    "# Finally we add all of them together\n",
    "def OIII_Hbeta(x, z, cont,cont_grad,  OIII_peak, Hbeta_peak, Nar_fwhm):\n",
    "    OIIIr_wv = 5008.24*(1+z)/1e4    \n",
    "    OIIIb_wv = 4960.*(1+z)/1e4\n",
    "    Hbeta_wv = 4862.6*(1+z)/1e4\n",
    "    \n",
    "    OIII_nar = gauss(x, OIII_peak, OIIIr_wv, Nar_fwhm) + gauss(x, OIII_peak/2.99, OIIIb_wv, Nar_fwhm)\n",
    "\n",
    "    Hbeta_nar = gauss(x, Hbeta_peak, Hbeta_wv, Nar_fwhm)\n",
    "    continuum = cont+x*cont_grad\n",
    "\n",
    "    return continuum+ OIII_nar + Hbeta_nar\n"
   ]
  },
  {
   "cell_type": "markdown",
   "id": "5fd86add-7e2f-406b-8a7c-abfaf102c246",
   "metadata": {},
   "source": [
    "Next we will prep the data for fitting:\n",
    "1) will only include channels (data) that was not masked. \n",
    "\n",
    "2)  We are not really interested in fitting the whole spectral window. We are only interested in the range our the spectral line. I like to go +- 300 angstroms around the line.\n",
    "\n",
    "3) Lastly, we need to find the value of the peak of the line - we will use this when creating initial conditions. "
   ]
  },
  {
   "cell_type": "code",
   "execution_count": 26,
   "id": "419d80ff-c967-4dae-92dd-0cde97e50d0d",
   "metadata": {
    "tags": []
   },
   "outputs": [],
   "source": [
    "flux = D1_spec.data[np.invert(D1_spec.mask)]\n",
    "wave = obs_wave[np.invert(D1_spec.mask)]\n",
    "    \n",
    "fit_loc = np.where((wave>(5008-300)*(1+z)/1e4)&(wave<(5008+300)*(1+z)/1e4))[0]\n",
    "       \n",
    "sel=  np.where(((wave<(5008+20)*(1+z)/1e4))& (wave>(5008-20)*(1+z)/1e4))[0]\n",
    "flux_zoom = flux[sel]\n",
    "wave_zoom = wave[sel]\n",
    "    \n",
    "peak_loc = np.ma.argmax(flux_zoom)\n",
    "peak = np.ma.max(flux_zoom)\n",
    "\n",
    "import astropy.stats as stats\n",
    "sigma = stats.sigma_clipped_stats(flux_zoom, sigma=3, maxiters=5)[2]\n",
    "# sigma is the standard deviation of the flux in the selected region\n",
    "error = np.ones_like(flux) * sigma"
   ]
  },
  {
   "cell_type": "markdown",
   "id": "0ad083fb",
   "metadata": {},
   "source": [
    "# Least Square fitting\n",
    "\n",
    "We are going to first look into least square fitting, using the scipy's curve_fit function - box standard"
   ]
  },
  {
   "cell_type": "code",
   "execution_count": 27,
   "id": "263bf496",
   "metadata": {},
   "outputs": [],
   "source": [
    "from scipy.optimize import curve_fit\n",
    "\n",
    "init_c = [z,np.median(flux),0.01, peak, peak/4, 300. ]\n",
    "\n",
    "popt_oiii, pcov_oiii = curve_fit(OIII_Hbeta, wave[fit_loc], flux[fit_loc], sigma= error[fit_loc], p0= init_c) "
   ]
  },
  {
   "cell_type": "code",
   "execution_count": 28,
   "id": "658b80e0",
   "metadata": {},
   "outputs": [],
   "source": [
    "np.savetxt('/Users/jansen/Downloads/1D_spec_example.txt', (wave, flux, error))\n",
    "x,y,zs = np.loadtxt('/Users/jansen/Downloads/1D_spec_example.txt') \n",
    "\n"
   ]
  },
  {
   "cell_type": "code",
   "execution_count": 29,
   "id": "2f6b729c",
   "metadata": {},
   "outputs": [
    {
     "name": "stdout",
     "output_type": "stream",
     "text": [
      "       wave               flux       \n",
      "------------------ ------------------\n",
      " 1.660483055066942  2.621318293560762\n",
      " 1.660879055055483  2.593050110852346\n",
      " 1.661275055044024 2.3017599475570023\n",
      " 1.661671055032565  2.241461842088029\n",
      " 1.662067055021106 2.6046728030778468\n",
      " 1.662463055009647 3.0533096530707553\n",
      " 1.662859054998188  2.828475203103153\n",
      " 1.663255054986729 3.0318664484657347\n",
      "  1.66365105497527  2.840918460424291\n",
      "1.6640470549638111  3.178369312081486\n",
      "               ...                ...\n",
      "3.1656790115113096 1.0068154379841872\n",
      "3.1660750114998506 1.0345194077817723\n",
      "3.1664710114883916 0.9416091310267802\n",
      "3.1668670114769326 0.9288875252241269\n",
      "3.1672630114654736  0.961167388872127\n",
      "3.1676590114540146 0.9327957495115697\n",
      "3.1680550114425556 0.7783765411586501\n",
      "3.1684510114310966 0.7275521180999931\n",
      "3.1688470114196376 0.6988272720336681\n",
      "3.1692430114081787 0.8252436321199639\n",
      "Length = 3811 rows\n"
     ]
    }
   ],
   "source": [
    "from astropy.table import Table\n",
    "\n",
    "Save = Table()\n",
    "\n",
    "Save['wave'] = obs_wave\n",
    "Save['flux'] = D1_spec.data\n",
    "Save.write('/Users/jansen/Downloads/1D_spec_example.csv', format='csv', overwrite=True)\n",
    "Save.write('/Users/jansen/Downloads/1D_spec_example.fits', overwrite=True)\n",
    "\n",
    "Spec = Table.read('/Users/jansen/Downloads/1D_spec_example.csv', format='csv')\n",
    "print(Spec)\n",
    "\n",
    "flux = Spec['flux']"
   ]
  },
  {
   "cell_type": "code",
   "execution_count": 30,
   "id": "b341a851",
   "metadata": {},
   "outputs": [
    {
     "data": {
      "image/png": "[encoded data removed]",
      "text/plain": [
       "<Figure size 640x480 with 1 Axes>"
      ]
     },
     "metadata": {},
     "output_type": "display_data"
    }
   ],
   "source": [
    "plt.figure()\n",
    "plt.plot( wave, flux, drawstyle='steps-mid')\n",
    "plt.xlabel('wavelength (microns)')\n",
    "plt.ylabel('Flux density - x 1e-15 erg/s/micron')\n",
    "plt.plot(wave, OIII_Hbeta(wave, *popt_oiii), 'r--')\n",
    "\n",
    "plt.xlim(2.16, 2.25)\n",
    "\n",
    "plt.show()"
   ]
  },
  {
   "cell_type": "code",
   "execution_count": 31,
   "id": "1df063ee",
   "metadata": {},
   "outputs": [
    {
     "name": "stdout",
     "output_type": "stream",
     "text": [
      "Best_fit value [  3.47098829   4.88276691  -1.49486891  18.6298935    8.03673543\n",
      " 212.57917305]\n",
      "1 sigma errors [9.42293626e-06 2.03378297e-01 9.07418672e-02 1.19087047e-01\n",
      " 1.10565888e-01 1.49754636e+00]\n"
     ]
    }
   ],
   "source": [
    "print('Best_fit value', popt_oiii)\n",
    "print('1 sigma errors', np.sqrt(np.diag(pcov_oiii)))\n"
   ]
  },
  {
   "cell_type": "markdown",
   "id": "c81f3090-2e21-4248-9ccd-b40aee99c406",
   "metadata": {},
   "source": [
    "### Calculating SNR\n",
    "\n",
    "we will now calculate the SNR of the line. This can be tricky for emission line, as we need to take into consideration not just the peak channel, but also other inside the emission line profile.\n",
    "\n",
    "The equation we use is as follows: \n",
    "\\begin{equation}\n",
    "SNR =  \\frac{\\sum_i \\rm flux_i}{ (\\sum_i error_i^2)^{1/2}} \n",
    "\\end{equation}\n",
    "\n",
    "Assuming that the errors per channel are the same:\n",
    "\n",
    "\\begin{equation}\n",
    "SNR = \\frac{1}{\\sqrt n} \\sum \\frac{ \\rm flux \\space  density}{\\rm error}\n",
    "\\end{equation}\n",
    "\n",
    "where the flux is the the flux density values at each channel within certain velocity/wavelength range, sigma is the uncertanties on the flux densities (error) and the n is the number of channels across the range of the emission line. "
   ]
  },
  {
   "cell_type": "code",
   "execution_count": 32,
   "id": "f9a95d9e-b170-496e-ad2b-a3cd83e2bf07",
   "metadata": {
    "tags": []
   },
   "outputs": [
    {
     "name": "stdout",
     "output_type": "stream",
     "text": [
      "SNR of the [OIII] line : 90.3868911615822\n"
     ]
    }
   ],
   "source": [
    "wv0 = 5008*(1+popt_oiii[0])/1e4\n",
    "fwhm = popt_oiii[-1]\n",
    "fwhm_wv = fwhm/3e5*wv0\n",
    "eml_model = gauss(wave,popt_oiii[3], wv0 , fwhm) \n",
    "\n",
    "\n",
    "use = np.where( ((wv0-fwhm_wv)<wave) & (wave< (wv0+fwhm_wv)))[0]\n",
    "flux_sel = eml_model[use]\n",
    "\n",
    "n = len(use)\n",
    "SNR = (sum(flux_sel)/np.sqrt(n)) * (1./error[100])\n",
    "print('SNR of the [OIII] line :', SNR)"
   ]
  },
  {
   "cell_type": "markdown",
   "id": "acdeb806-5d84-4053-9a64-b7e0bb6afa23",
   "metadata": {
    "tags": []
   },
   "source": [
    "the alternative way is to calculate it dirrectly from the MCMC as integrated flux/ error on the integrated flux. See how to caluclate the integrated flux below!\\frac{1}{\\sqrt{n}}\n",
    "\n",
    "\n",
    "## Estimating the integrated flux of the line\n",
    "\n",
    "It is now time to calculate all the properties of the line. The way we setup the fitting, we imddiatly have the emission line width (as FWHM in velocity space), redshift (location of the line). We now need to estimate the total integrated flux of the line. Luckily, for this we just need to integrate the flux density (flux per unit of wavelength) to get total flux. \n",
    "\n",
    "Unlike with SNR, the equation for flux is not dependant on the number of channels so we integrate the gaussian across all the channels (The Gaussian far away from our line is going to be 0, or very close to it). "
   ]
  },
  {
   "cell_type": "code",
   "execution_count": 33,
   "id": "0b653ae5-0c81-47f9-a4fa-e624aef0d437",
   "metadata": {
    "tags": []
   },
   "outputs": [
    {
     "name": "stdout",
     "output_type": "stream",
     "text": [
      "Flux of the [OIII] line is:  3.146370792496217e-17 ergs/s/cm-2\n",
      "Flux of the Hbeta line is:  1.317198265055217e-17 ergs/s/cm-2\n"
     ]
    }
   ],
   "source": [
    "import scipy.integrate as scpi # we will use scipy's integrate simpsons function to do this\n",
    "            \n",
    "wv0 = 5008*(1+popt_oiii[0])/1e4\n",
    "fwhm = popt_oiii[-1]\n",
    "\n",
    "a = 1./(2*(fwhm/3e5*wv0/2.35482)**2)\n",
    "Flux_OIII = popt_oiii[3]*np.sqrt(np.pi/a) *1e-15 # Remember when I said that we normalize the spectrum earlier? That where the 1e-15 factor comes in\n",
    "\n",
    "\n",
    "print('Flux of the [OIII] line is: ', Flux_OIII, 'ergs/s/cm-2')\n",
    "\n",
    "wv0 = 4860*(1+popt_oiii[0])/1e4\n",
    "fwhm = popt_oiii[-1]\n",
    "\n",
    "a = 1./(2*(fwhm/3e5*wv0/2.35482)**2)\n",
    "Flux_Hbeta = popt_oiii[4]*np.sqrt(np.pi/a) *1e-15 # Remember when I said that we normalize the spectrum earlier? That where the 1e-15 factor comes in\n",
    "\n",
    "print('Flux of the Hbeta line is: ', Flux_Hbeta, 'ergs/s/cm-2')\n"
   ]
  },
  {
   "cell_type": "markdown",
   "id": "c59b5405",
   "metadata": {},
   "source": [
    "## Fitting the Halpha + [NII]\n",
    "\n",
    "We can fit the spectrum this high SNR spectrum based on the skills we have learned in the previous notebook. The setup is going to be very similar but we will fit the Halpha. The Halpha is close to other emission lines - [NII] doublet and [SII] doublet. \n",
    "\n",
    "I have pre written part of the function below. However remember that the flues of [NII] doublet is 6585 and 6549 is tied together by a factor of 3 - similar to the [OIII] doublet in the previous notebook. Finally the [SII] doublet ratio is free.  "
   ]
  },
  {
   "cell_type": "code",
   "execution_count": 34,
   "id": "641505d6",
   "metadata": {},
   "outputs": [],
   "source": [
    "# Defining the model for fitting emission lines around Halpha including of course Halpha itself. \n",
    "# Setting up a single Gaussian - will be used later \n",
    "def gauss(x, k, mu,FWHM):\n",
    "    sig = FWHM/2.35482/3e5*mu\n",
    "    expo= -((x-mu)**2)/(2*sig*sig) \n",
    "    y= k* e**expo\n",
    "    return y\n",
    "\n",
    "# Setting up the Halpha model:\n",
    "# First we calculate the observed frame wavelengths of the lines\n",
    "# Then we calculate the individfual components - Halpha, [NII] and [SII]\n",
    "# Finally we add all of them together\n",
    "def Halpha_NII_SII(x, z, cont,cont_grad,  Hal_peak, NII_peak, SIIr_peak, SIIb_peak, Nar_fwhm):\n",
    "    Hal_wv = 6564.52*(1+z)/1e4\n",
    "    NII_r = 6585.27*(1+z)/1e4\n",
    "    NII_b = 6549.86*(1+z)/1e4\n",
    "\n",
    "    SII_r = 6732.67*(1+z)/1e4\n",
    "    SII_b = 6718.29*(1+z)/1e4\n",
    "\n",
    "    Hal_nar = gauss(x, Hal_peak, Hal_wv, Nar_fwhm)\n",
    "\n",
    "    NII_nar = gauss(x, NII_peak, NII_r,  Nar_fwhm) + gauss(x, NII_peak/3, NII_b,  Nar_fwhm)\n",
    "    SII_nar  = gauss(x, SIIr_peak, SII_r,  Nar_fwhm)  + gauss(x, SIIb_peak, SII_b,  Nar_fwhm)\n",
    "\n",
    "    continuum = cont+x*cont_grad\n",
    "\n",
    "    return continuum+ Hal_nar + NII_nar + SII_nar\n"
   ]
  },
  {
   "cell_type": "markdown",
   "id": "af0c96bb",
   "metadata": {},
   "source": [
    "Next we will prep the data for fitting:\n",
    "1) will only include channels (data) that was not masked. \n",
    "\n",
    "2)  We are not really interested in fitting the whole spectral window. We are only interested in the range our the spectral line. I like to go +- 300 angstroms around the line.\n",
    "\n",
    "3) Lastly, we need to find the value of the peak of the line - we will use this when creating initial conditions. "
   ]
  },
  {
   "cell_type": "code",
   "execution_count": 35,
   "id": "bdbfd078",
   "metadata": {},
   "outputs": [],
   "source": [
    "# Adjust these number to be around Halpha emission line \n",
    "fit_loc = np.where((obs_wave>(6564-300)*(1+z)/1e4)&(obs_wave<(6564+300)*(1+z)/1e4))[0] \n",
    "\n",
    "sel=  np.where(((obs_wave<(6564+20)*(1+z)/1e4))& (obs_wave>(6564-20)*(1+z)/1e4))[0]\n",
    "flux_zoom = D1_spec[sel]\n",
    "wave_zoom = obs_wave[sel]\n",
    "\n",
    "peak_loc = np.ma.argmax(flux_zoom)\n",
    "peak = np.ma.max(flux_zoom)\n",
    "\n",
    " # Estimate the error as the standard deviation of the flux in the fit region with 3 sigma clipping\n",
    "import astropy.stats as stats\n",
    "error = np.full_like(D1_spec, stats.sigma_clipped_stats(D1_spec[fit_loc], sigma=3)[2])"
   ]
  },
  {
   "cell_type": "markdown",
   "id": "78428c5e",
   "metadata": {},
   "source": [
    "## Least Square fitting\n",
    "\n",
    "We are going to first look into least square fitting, using the scipy's curve_fit function - box standard"
   ]
  },
  {
   "cell_type": "code",
   "execution_count": 36,
   "id": "504066c0",
   "metadata": {},
   "outputs": [
    {
     "name": "stderr",
     "output_type": "stream",
     "text": [
      "/Users/jansen/anaconda3/lib/python3.11/site-packages/numpy/core/fromnumeric.py:784: UserWarning: Warning: 'partition' will ignore the 'mask' of the MaskedArray.\n",
      "  a.partition(kth, axis=axis, kind=kind, order=order)\n"
     ]
    }
   ],
   "source": [
    "from scipy.optimize import curve_fit\n",
    "\n",
    "# Change initial conditions to match the variables in the function \n",
    "init_c = [z,np.median(D1_spec),0.01, peak, peak/7,peak/15,peak/15, 200. ]\n",
    "\n",
    "popt_hal, pcov_hal = curve_fit(Halpha_NII_SII, obs_wave[fit_loc], D1_spec[fit_loc], sigma= error[fit_loc], p0= init_c) "
   ]
  },
  {
   "cell_type": "code",
   "execution_count": 37,
   "id": "912313fd",
   "metadata": {},
   "outputs": [
    {
     "name": "stdout",
     "output_type": "stream",
     "text": [
      "[  3.47109348   1.6487831   -0.21863866  25.63187733   6.26661411\n",
      "   1.50705394   1.95313375 205.30344357] [9.63458318e-06 4.01110868e-01 1.36716538e-01 1.68789803e-01\n",
      " 1.35045285e-01 1.39349547e-01 1.39422631e-01 1.53153212e+00]\n"
     ]
    },
    {
     "data": {
      "image/png": "[encoded data removed]",
      "text/plain": [
       "<Figure size 640x480 with 1 Axes>"
      ]
     },
     "metadata": {},
     "output_type": "display_data"
    }
   ],
   "source": [
    "plt.figure()\n",
    "plt.plot( wave, flux, drawstyle='steps-mid')\n",
    "plt.xlabel('wavelength (microns)')\n",
    "plt.ylabel('Flux density - x 1e-15 erg/s/micron')\n",
    "plt.plot(wave, Halpha_NII_SII(wave, *popt_hal), 'r--')\n",
    "\n",
    "\n",
    "print(popt_hal, np.sqrt(np.diag(pcov_hal)))\n",
    "\n",
    "plt.xlim(2.9,2.97)\n",
    "plt.show()"
   ]
  },
  {
   "cell_type": "markdown",
   "id": "c56ca065",
   "metadata": {},
   "source": [
    "## Extracting valuable information from the fits\n",
    "\n",
    "1) Now using the information we used in the 1_Emission_line_tutorial, you can estimate the flux of the different emission lines, their SNRs and FWHM and redshifts. \n",
    "\n",
    "2) Also you should fit the OIII+Hbeta emission lines and estimate its fluxes, SNR etc. "
   ]
  },
  {
   "cell_type": "code",
   "execution_count": 38,
   "id": "b1059a39",
   "metadata": {},
   "outputs": [
    {
     "name": "stdout",
     "output_type": "stream",
     "text": [
      "Halpha_flux 5.480300076954449e-17 ergs/s/cm-2\n",
      "NII_flux 1.3439342466859291e-17 ergs/s/cm-2\n",
      "SIIr_flux 3.304738281576232e-18 ergs/s/cm-2\n",
      "SIIb_flux 4.273775228739899e-18 ergs/s/cm-2\n",
      "SNR of the Halpha line : 267.4558227263913\n",
      "SNR of the NII line : 65.49940540480287\n",
      "SNR of the SIIr line : 16.077488394354422\n",
      "SNR of the SIIb line : 20.77816313493417\n"
     ]
    }
   ],
   "source": [
    "# Extract Emission line parameters from the fit\n",
    "\n",
    "def flux_calc(index, rest_wave, popt):\n",
    "                \n",
    "    wv0 = rest_wave*(1+popt[0])/1e4\n",
    "    fwhm = popt[-1]\n",
    "\n",
    "    a = 1./(2*(fwhm/3e5*wv0/2.35482)**2)\n",
    "    Flux = popt[index]*np.sqrt(np.pi/a) *1e-15 # Remember when I said that we normalize the spectrum earlier? That where the 1e-15 factor comes in\n",
    "\n",
    "    return Flux\n",
    "\n",
    "Flux_hal =  flux_calc(3, 6564.52, popt_hal)\n",
    "Flux_NII = flux_calc(4 ,6584.52, popt_hal)\n",
    "Flux_SIIr = flux_calc(5, 6732.67, popt_hal)\n",
    "Flux_SIIb = flux_calc(6, 6718.29, popt_hal)\n",
    "print('Halpha_flux', Flux_hal, 'ergs/s/cm-2')\n",
    "print('NII_flux', Flux_NII, 'ergs/s/cm-2')\n",
    "print('SIIr_flux', Flux_SIIr, 'ergs/s/cm-2')\n",
    "print('SIIb_flux', Flux_SIIb, 'ergs/s/cm-2')\n",
    "\n",
    "\n",
    "def SNR_calc(index, rest_wave, popt):\n",
    "    wv0 = rest_wave*(1+popt[0])/1e4\n",
    "    fwhm = popt[-1]\n",
    "    fwhm_wv = fwhm/3e5*wv0\n",
    "    eml_model = gauss(wave,popt[index], wv0 , fwhm) \n",
    "\n",
    "\n",
    "    use = np.where( ((wv0-fwhm_wv)<wave) & (wave< (wv0+fwhm_wv)))[0]\n",
    "    flux_sel = eml_model[use]\n",
    "\n",
    "    n = len(use)\n",
    "    SNR = (sum(flux_sel)/np.sqrt(n)) * (1./error[100])\n",
    "    return SNR\n",
    "\n",
    "print('SNR of the Halpha line :', SNR_calc(3, 6564.52, popt_hal))\n",
    "print('SNR of the NII line :', SNR_calc(4, 6584.52, popt_hal))\n",
    "print('SNR of the SIIr line :', SNR_calc(5, 6732.67, popt_hal))\n",
    "print('SNR of the SIIb line :', SNR_calc(6, 6718.29, popt_hal))\n"
   ]
  },
  {
   "cell_type": "markdown",
   "id": "fcad47a1",
   "metadata": {},
   "source": [
    "# BPT"
   ]
  },
  {
   "cell_type": "code",
   "execution_count": 39,
   "id": "878d0863",
   "metadata": {},
   "outputs": [
    {
     "data": {
      "image/png": "[encoded data removed]",
      "text/plain": [
       "<Figure size 1000x500 with 1 Axes>"
      ]
     },
     "metadata": {},
     "output_type": "display_data"
    }
   ],
   "source": [
    "f, (ax) = plt.subplots(1, figsize=(10,5))\n",
    "\n",
    "x01 = np.linspace(-3,0.4,100)   \n",
    "x03 = np.linspace(-3,0,100)   \n",
    "\n",
    "x01 = np.linspace(-3,0.4,100)   \n",
    "x03 = np.linspace(-3,0,100)\n",
    "Ka01 = 0.61/(x01-0.47) +1.19\n",
    "Ka03 = 0.61/(x03-0.05) +1.3\n",
    "\n",
    "\n",
    "ax.plot(x01, Ka01, 'k--')\n",
    "ax.plot(x03, Ka03, 'k--')  \n",
    "\n",
    "ax.text(-1.4, -0., 'Star-formation')\n",
    "ax.text(-1.4, 1.2, 'AGN')\n",
    "ax.text(-0.25, -0.75, 'Composite')\n",
    "    \n",
    "ax.set_xlim(-1.5,0.6)\n",
    "ax.set_ylim(-1,1.3)\n",
    "ax.set_ylabel(r'R3 = log$_{10}$ ([OIII]5008/H$\\beta$4862)', fontsize=13)\n",
    "ax.set_xlabel(r'N2 = log$_{10}$ ([NII]6584/H$\\alpha$6563)', fontsize=13)\n",
    "\n",
    "\n",
    "ax.plot(np.log10(Flux_NII/Flux_hal), np.log10(Flux_OIII/Flux_Hbeta), 'ro', markersize=8, label='GS-5001-Main'  )\n",
    "\n",
    "ax.legend(loc='best')\n",
    "plt.show()"
   ]
  },
  {
   "cell_type": "code",
   "execution_count": 40,
   "id": "4f820222",
   "metadata": {},
   "outputs": [
    {
     "name": "stdout",
     "output_type": "stream",
     "text": [
      "Flux of the NII line : 1.3439342466859291e-17\n",
      "Flux of the Halpha line : 5.480300076954449e-17\n",
      "Flux of the OIII line : 3.146370792496217e-17\n",
      "Flux of the Hbeta line : 1.317198265055217e-17\n"
     ]
    }
   ],
   "source": [
    "print('Flux of the NII line :', Flux_NII)\n",
    "print('Flux of the Halpha line :', Flux_hal)\n",
    "print('Flux of the OIII line :', Flux_OIII)\n",
    "print('Flux of the Hbeta line :',   Flux_Hbeta)"
   ]
  },
  {
   "cell_type": "markdown",
   "id": "603f0416",
   "metadata": {},
   "source": [
    "# Fitting Function for [OIII]+Hbeta"
   ]
  },
  {
   "cell_type": "code",
   "execution_count": 41,
   "id": "7b69075a",
   "metadata": {},
   "outputs": [
    {
     "name": "stdout",
     "output_type": "stream",
     "text": [
      "Best_fit value (3.4709882901474565, 3.146521577038988e-17, 1.3177403219544167e-17, array([  3.47098829,   4.88276691,  -1.49486891,  18.6298935 ,\n",
      "         8.03673543, 212.57917305]), array([[ 8.87917277e-11,  3.40970412e-09, -1.52224991e-09,\n",
      "         3.76552611e-11, -1.18724753e-10, -5.17052751e-09],\n",
      "       [ 3.40970412e-09,  4.13627316e-02, -1.84436196e-02,\n",
      "         1.32523590e-04, -1.61272405e-03, -9.33541603e-03],\n",
      "       [-1.52224991e-09, -1.84436196e-02,  8.23408646e-03,\n",
      "        -7.58287130e-05,  6.97354886e-04,  3.67310122e-03],\n",
      "       [ 3.76552611e-11,  1.32523590e-04, -7.58287130e-05,\n",
      "         1.41817249e-02,  1.86704782e-03, -9.63526428e-02],\n",
      "       [-1.18724753e-10, -1.61272405e-03,  6.97354886e-04,\n",
      "         1.86704782e-03,  1.22248156e-02, -4.04829845e-02],\n",
      "       [-5.17052751e-09, -9.33541603e-03,  3.67310122e-03,\n",
      "        -9.63526428e-02, -4.04829845e-02,  2.24264510e+00]]))\n"
     ]
    }
   ],
   "source": [
    "# Defining the model for fitting emission lines around Halpha including of course Halpha itself. \n",
    "# Setting up a single Gaussian - will be used later \n",
    "def gauss(x, k, mu,FWHM):\n",
    "    sig = FWHM/2.35482/3e5*mu\n",
    "    expo= -((x-mu)**2)/(2*sig*sig) \n",
    "    y= k* e**expo\n",
    "    return y\n",
    "\n",
    "# Setting up the Halpha model:\n",
    "# First we calculate the observed frame wavelengths of the lines\n",
    "# Then we calculate the individfual components - Halpha, [NII] and [SII]\n",
    "# Finally we add all of them together\n",
    "def OIII_Hbeta(x, z, cont,cont_grad,  OIII_peak, Hbeta_peak, Nar_fwhm):\n",
    "    OIIIr_wv = 5008.24*(1+z)/1e4    \n",
    "    OIIIb_wv = 4960.*(1+z)/1e4\n",
    "    Hbeta_wv = 4862.6*(1+z)/1e4\n",
    "    \n",
    "    OIII_nar = gauss(x, OIII_peak, OIIIr_wv, Nar_fwhm) + gauss(x, OIII_peak/2.99, OIIIb_wv, Nar_fwhm)\n",
    "\n",
    "    Hbeta_nar = gauss(x, Hbeta_peak, Hbeta_wv, Nar_fwhm)\n",
    "    continuum = cont+x*cont_grad\n",
    "\n",
    "    return continuum+ OIII_nar + Hbeta_nar\n",
    "\n",
    "# Extract Emission line parameters from the fit\n",
    "\n",
    "def flux_calc(index, rest_wave,popt):\n",
    "                \n",
    "    wv0 = rest_wave*(1+popt[0])/1e4\n",
    "    fwhm = popt[-1]\n",
    "\n",
    "    a = 1./(2*(fwhm/3e5*wv0/2.35482)**2)\n",
    "    Flux = popt[index]*np.sqrt(np.pi/a) *1e-15 # Remember when I said that we normalize the spectrum earlier? That where the 1e-15 factor comes in\n",
    "\n",
    "    return Flux\n",
    "\n",
    "\n",
    "def SNR_calc(index, rest_wave, popt):\n",
    "    wv0 = rest_wave*(1+popt[0])/1e4\n",
    "    fwhm = popt[-1]\n",
    "    fwhm_wv = fwhm/3e5*wv0\n",
    "    eml_model = gauss(wave,popt[index], wv0 , fwhm) \n",
    "\n",
    "\n",
    "    use = np.where( ((wv0-fwhm_wv)<wave) & (wave< (wv0+fwhm_wv)))[0]\n",
    "    flux_sel = eml_model[use]\n",
    "\n",
    "    n = len(use)\n",
    "    SNR = (sum(flux_sel)/np.sqrt(n)) * (1./error[100])\n",
    "    return SNR\n",
    "\n",
    "def Fitting_OIII_Hbeta(obs_wave, D1_spec, z):\n",
    "\n",
    "    flux = D1_spec.data[np.invert(D1_spec.mask)]\n",
    "    wave = obs_wave[np.invert(D1_spec.mask)]\n",
    "        \n",
    "    fit_loc = np.where((wave>(5008-300)*(1+z)/1e4)&(wave<(5008+300)*(1+z)/1e4))[0]\n",
    "        \n",
    "    sel=  np.where(((wave<(5008+20)*(1+z)/1e4))& (wave>(5008-20)*(1+z)/1e4))[0]\n",
    "    flux_zoom = flux[sel]\n",
    "    wave_zoom = wave[sel]\n",
    "        \n",
    "    peak_loc = np.ma.argmax(flux_zoom)\n",
    "    peak = np.ma.max(flux_zoom)\n",
    "\n",
    "    import astropy.stats as stats\n",
    "    sigma = stats.sigma_clipped_stats(flux_zoom, sigma=3, maxiters=5)[2]\n",
    "    # sigma is the standard deviation of the flux in the selected region\n",
    "    error = np.ones_like(flux) * sigma\n",
    "\n",
    "    from scipy.optimize import curve_fit\n",
    "\n",
    "    init_c = [z,np.median(flux),0.01, peak, peak/4, 300. ]\n",
    "\n",
    "    popt, pcov = curve_fit(OIII_Hbeta, wave[fit_loc], flux[fit_loc], sigma= error[fit_loc], p0= init_c)\n",
    "\n",
    "    Flux_OIII = flux_calc(3, 5008.24, popt)\n",
    "    Flux_Hbeta = flux_calc(4, 4862., popt)\n",
    "\n",
    "    return popt[0], Flux_OIII, Flux_Hbeta, popt, pcov \n",
    "\n",
    "\n",
    "print('Best_fit value', Fitting_OIII_Hbeta(obs_wave, D1_spec, z))"
   ]
  }
 ],
 "metadata": {
  "kernelspec": {
   "display_name": "base",
   "language": "python",
   "name": "python3"
  },
  "language_info": {
   "codemirror_mode": {
    "name": "ipython",
    "version": 3
   },
   "file_extension": ".py",
   "mimetype": "text/x-python",
   "name": "python",
   "nbconvert_exporter": "python",
   "pygments_lexer": "ipython3",
   "version": "3.11.5"
  }
 },
 "nbformat": 4,
 "nbformat_minor": 5
}
