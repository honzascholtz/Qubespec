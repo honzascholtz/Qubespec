{
 "cells": [
  {
   "cell_type": "markdown",
   "id": "3c53d500-f9f3-4dbe-9770-e835d11b25a6",
   "metadata": {},
   "source": [
    "# Tutorial on how to fit emission line and use IFU data - KMOS/SINFONI/JWST etc"
   ]
  },
  {
   "cell_type": "markdown",
   "id": "8123e0db-64ce-4cd4-abda-7234d63a60d2",
   "metadata": {},
   "source": [
    "Here I am going to go through basic of analysing IFU data and fitting emission lines. First, in order to quickly look at IFU cubes, I recommend QFits. https://www.mpe.mpg.de/~ott/QFitsView/. \n",
    "\n",
    "To read more about Integral Field Spectroscopy, I recommend section 2.2 of my thesis: http://etheses.dur.ac.uk/13311/1/Thesis_cor_mk_II.pdf?DDD25+ or from Chris Harrison; Chapter 2. http://etheses.dur.ac.uk/10744/1/cmh_thesis.pdf?DDD25+\n"
   ]
  },
  {
   "cell_type": "markdown",
   "id": "a8de4866",
   "metadata": {},
   "source": [
    "# Dealing wih IFU data"
   ]
  },
  {
   "cell_type": "markdown",
   "id": "8b426667",
   "metadata": {},
   "source": [
    "We will first start with loading the cube and extracting a spectrum. We will then continue to write a simple fitting code to fit the spectrum from the previous tutorial. \n",
    "\n",
    "Lets start with importing basic libraries. This is a start of every code I write. "
   ]
  },
  {
   "cell_type": "code",
   "execution_count": null,
   "id": "7400bfbd",
   "metadata": {},
   "outputs": [],
   "source": [
    "#importing modules\n",
    "import numpy as np\n",
    "import matplotlib.pyplot as plt; plt.ioff()\n",
    "\n",
    "from astropy.io import fits as pyfits\n",
    "from astropy import wcs\n",
    "from astropy.table import Table, join, vstack\n",
    "from matplotlib.backends.backend_pdf import PdfPages\n",
    "import pickle\n",
    "from scipy.optimize import curve_fit\n",
    "\n",
    "import emcee\n",
    "import corner \n",
    "\n",
    "from os.path import exists\n",
    "nan= float('nan')\n",
    "\n",
    "pi= np.pi\n",
    "e= np.e\n",
    "\n",
    "plt.close('all')\n",
    "c= 3.*10**8\n",
    "h= 6.62*10**-34\n",
    "k= 1.38*10**-23\n",
    "\n",
    "\n",
    "\n",
    "PATH='/Users/jansen/My Drive/Astro/'\n"
   ]
  },
  {
   "cell_type": "markdown",
   "id": "836dd48a",
   "metadata": {},
   "source": [
    "## Loading the JWST IFS cube. \n",
    "\n",
    "We will now load the IFU cube and extract all of the import information. We need to extract the wavelength grid and the data cube and the header information. "
   ]
  },
  {
   "cell_type": "code",
   "execution_count": null,
   "id": "a4c25879",
   "metadata": {},
   "outputs": [],
   "source": [
    "path = '/Users/jansen/JADES/GA_NIFS/IFS_data_v1/' \n",
    "file_name = '5001-GS-3.47-S_jw1216_o005_ff_px0.05_drizzle_ODfde98_3_VSC_MRC_MSA_m2ff_CTX1068.pmap_v1.8.2_g235h-f170lp_cgs_s3d.fits' # Full path to the file\n",
    "\n",
    "Full_path = path + file_name\n",
    "\n",
    "with pyfits.open(Full_path, memmap=False) as hdulist:\n",
    "\n",
    "    Flux_cube = hdulist['SCI'].data *1e4 * 1e15\n",
    "    Header = hdulist['SCI'].header\n",
    "\n",
    "    n_channels = Header['NAXIS3'] # Extract the number pixels in the third axis (wavelength)\n",
    "    obs_wave = Header['CRVAL3'] + (np.arange(n_channels) - (Header['CRPIX3'] - 1.0))*Header['CDELT3'] # Extract the wavelength grid\n",
    "\n",
    "\n",
    "z = 3.471\n",
    "\n",
    "plt.show()\n"
   ]
  },
  {
   "cell_type": "markdown",
   "id": "013e6236",
   "metadata": {},
   "source": [
    "## Extracting a spectrum from multiple spaxel together - circular aperture \n",
    "\n",
    "The best thing about IFS is that we extract spectrum from anywhere in the galaxy to investigate the properties in that section. We can use a very simple circular mask to setup to create a spectrum with a sum of all of the spaxels. "
   ]
  },
  {
   "cell_type": "code",
   "execution_count": null,
   "id": "76b777eb",
   "metadata": {},
   "outputs": [],
   "source": [
    "def sp_circ_ap(cenx,ceny,rad,Flux_cube):\n",
    "\n",
    "    nwl = len(Flux_cube[:,0,0])\n",
    "    nx = len(Flux_cube[0,0,:])\n",
    "    ny = len(Flux_cube[0,:,0])\n",
    "    # creates array with one spectrum per row\n",
    "    intermarray = np.full((nwl,nx*ny), np.nan)\n",
    "    # fills it with nans\n",
    "    \n",
    "    nloop = 0\n",
    "    # loop on data\n",
    "    for x in range(nx) :\n",
    "        for y in range(ny) :  \n",
    "            distance = np.sqrt((x-cenx)**2+(y-ceny)**2)\n",
    "            if distance < rad :\n",
    "                intermarray[:,int(nloop)] = Flux_cube[:,int(y),int(x)]\n",
    "                nloop += 1\n",
    "               \n",
    "    # average\n",
    "    outspec = np.nansum(intermarray,axis=1)\n",
    "    return outspec\n",
    "\n",
    "# This function extracts the spectrum from a circular aperture of radius 5 pixels centered on the sp\n",
    "D1_spec = sp_circ_ap(44,47,5,Flux_cube) # 5 pixel radius aperture centered on the spaxel at (44,47)\n",
    "\n",
    "D1_spec = np.ma.masked_invalid(D1_spec ) # Mask invalid values (nans, infs etc.)\n",
    "\n",
    "f, ax = plt.subplots(1, 1, figsize=(10, 5))\n",
    "\n",
    "x,y  = 44,47 # Coordinates of the spaxel we want to extract the spectrum from\n",
    "ax.plot( obs_wave, D1_spec, drawstyle='steps-mid')\n",
    "ax.set_xlabel('wavelength [microns]')\n",
    "ax.set_ylabel('Flux density - x1e-15 erg/s/micron')\n",
    "\n",
    "ylow = -0.0\n",
    "yhig = 25\n",
    "\n",
    "ax.vlines(0.5008*(1+z),ylow,yhig, linestyle='dashed',color='orange', alpha=0.8)\n",
    "ax.vlines(0.6300*(1+z),ylow,yhig, linestyle='dashed',color='orange', alpha=0.8)\n",
    "\n",
    "ax.vlines(0.6563*(1+z),ylow,yhig, linestyle='dashed',color='k', alpha=0.5)\n",
    "ax.vlines(0.4861*(1+z),ylow,yhig, linestyle='dashed',color='k', alpha=0.5)\n",
    "\n",
    "ax.vlines(0.6731*(1+z),ylow,yhig, linestyle='dashed',color='k', alpha=0.5)\n",
    "\n",
    "ax.set_xlim(2.15,2.25)\n",
    "ax.set_ylim(-0.,30.)\n",
    "\n",
    "plt.show()"
   ]
  },
  {
   "cell_type": "markdown",
   "id": "a37c3cba-1be8-4a3a-822f-8cd847beb3f1",
   "metadata": {},
   "source": [
    "We can see a very bright detection of narrow [OIII], but there is also a fainter line right next to it at 2.21 and 2.23 microns. This is the other part of [OIII] doublet and Hbeta line. There is one at restframe 4960 and 4861 angstroms. When fitting the [OIII]5008, we wil have to fit the [OIII] 4960 (full doublet) as well and the Hbeta 4861. \n",
    "\n",
    "So in summary we will be fitting the following models: \n",
    "1) [OIII]5008,4960 - single Gaussian to each member of the [OIII] doublet.  \n",
    "2) Hbeta  - one gaussian components\n",
    "4) Continuum - We need to fit the continuum. KMOS and SINFONI are not very sensitive to the features of the continuum hence fitting a line with gradient and normalization is enough. For high SNR data (maybe from JWST?) or local galaxies we would have to fit ppxf models - I have never done it though. \n",
    "\n",
    "However, we do not need to fit 3 parameters for each gaussian (peak, location and width) as we can make some assumptions and use some physics.\n",
    "1) First of all we will assume that all of these emission lines are coming from the same gas - hence they will have the same redshift\n",
    "2) Because they are coming from the same gas, they have the samw width - sigma (or FWHM) of the line\n",
    "3) The [OIII] has fixed line ratio between the two lines - the [OIII]4960 line has 1/3 of the flux of the [OIII]5008 line. Since the width of these lines is the same, we can say that the ratio of the peaks of these two lines is 2.99. \n",
    "\n",
    "This drastically reduces the amount of free parameters - from 11 to 6. \n",
    "\n",
    "In order to fit these models we will use least square fitting. "
   ]
  },
  {
   "cell_type": "code",
   "execution_count": null,
   "id": "62aea68f-e346-4e53-84a0-440333005836",
   "metadata": {
    "tags": []
   },
   "outputs": [],
   "source": [
    "# Defining the model for fitting emission lines around Halpha including of course Halpha itself. \n",
    "# Setting up a single Gaussian - will be used later \n",
    "def gauss(x, k, mu,FWHM):\n",
    "    sig = FWHM/2.35482/3e5*mu\n",
    "    expo= -((x-mu)**2)/(2*sig*sig) \n",
    "    y= k* e**expo\n",
    "    return y\n",
    "\n",
    "# Setting up the Halpha model:\n",
    "# First we calculate the observed frame wavelengths of the lines\n",
    "# Then we calculate the individfual components - Halpha, [NII] and [SII]\n",
    "# Finally we add all of them together\n",
    "def OIII_Hbeta(x, z, cont,cont_grad,  OIII_peak, Hbeta_peak, Nar_fwhm):\n",
    "    OIIIr_wv = 5008.24*(1+z)/1e4    \n",
    "    OIIIb_wv = 4960.*(1+z)/1e4\n",
    "    Hbeta_wv = 4862.6*(1+z)/1e4\n",
    "    \n",
    "    OIII_nar = gauss(x, OIII_peak, OIIIr_wv, Nar_fwhm) + gauss(x, OIII_peak/2.99, OIIIb_wv, Nar_fwhm)\n",
    "\n",
    "    Hbeta_nar = gauss(x, Hbeta_peak, Hbeta_wv, Nar_fwhm)\n",
    "    continuum = cont+x*cont_grad\n",
    "\n",
    "    return continuum+ OIII_nar + Hbeta_nar\n"
   ]
  },
  {
   "cell_type": "markdown",
   "id": "5fd86add-7e2f-406b-8a7c-abfaf102c246",
   "metadata": {},
   "source": [
    "Next we will prep the data for fitting:\n",
    "1) will only include channels (data) that was not masked. \n",
    "\n",
    "2)  We are not really interested in fitting the whole spectral window. We are only interested in the range our the spectral line. I like to go +- 300 angstroms around the line.\n",
    "\n",
    "3) Lastly, we need to find the value of the peak of the line - we will use this when creating initial conditions. "
   ]
  },
  {
   "cell_type": "code",
   "execution_count": null,
   "id": "419d80ff-c967-4dae-92dd-0cde97e50d0d",
   "metadata": {
    "tags": []
   },
   "outputs": [],
   "source": [
    "flux = D1_spec.data[np.invert(D1_spec.mask)]\n",
    "wave = obs_wave[np.invert(D1_spec.mask)]\n",
    "    \n",
    "fit_loc = np.where((wave>(5008-300)*(1+z)/1e4)&(wave<(5008+300)*(1+z)/1e4))[0]\n",
    "       \n",
    "sel=  np.where(((wave<(5008+20)*(1+z)/1e4))& (wave>(5008-20)*(1+z)/1e4))[0]\n",
    "flux_zoom = flux[sel]\n",
    "wave_zoom = wave[sel]\n",
    "    \n",
    "peak_loc = np.ma.argmax(flux_zoom)\n",
    "peak = np.ma.max(flux_zoom)\n",
    "\n",
    "import astropy.stats as stats\n",
    "sigma = stats.sigma_clipped_stats(flux_zoom, sigma=3, maxiters=5)[2]\n",
    "# sigma is the standard deviation of the flux in the selected region\n",
    "error = np.ones_like(flux) * sigma"
   ]
  },
  {
   "cell_type": "markdown",
   "id": "0ad083fb",
   "metadata": {},
   "source": [
    "# Least Square fitting\n",
    "\n",
    "We are going to first look into least square fitting, using the scipy's curve_fit function - box standard"
   ]
  },
  {
   "cell_type": "code",
   "execution_count": null,
   "id": "263bf496",
   "metadata": {},
   "outputs": [],
   "source": [
    "from scipy.optimize import curve_fit\n",
    "\n",
    "init_c = [z,np.median(flux),0.01, peak, peak/4, 400. ]\n",
    "\n",
    "popt, pcov = curve_fit(OIII_Hbeta, wave[fit_loc], flux[fit_loc], sigma= error[fit_loc], p0= init_c) "
   ]
  },
  {
   "cell_type": "code",
   "execution_count": null,
   "id": "658b80e0",
   "metadata": {},
   "outputs": [],
   "source": [
    "np.savetxt('/Users/jansen/Downloads/1D_spec_example.txt', (wave, flux, error))\n",
    "x,y,zs = np.loadtxt('/Users/jansen/Downloads/1D_spec_example.txt') \n",
    "\n"
   ]
  },
  {
   "cell_type": "code",
   "execution_count": null,
   "id": "2f6b729c",
   "metadata": {},
   "outputs": [],
   "source": [
    "from astropy.table import Table\n",
    "\n",
    "Save = Table()\n",
    "\n",
    "Save['wave'] = obs_wave\n",
    "Save['flux'] = D1_spec.data\n",
    "Save.write('/Users/jansen/Downloads/1D_spec_example.csv', format='csv', overwrite=True)\n",
    "Save.write('/Users/jansen/Downloads/1D_spec_example.fits', overwrite=True)\n",
    "\n",
    "Spec = Table.read('/Users/jansen/Downloads/1D_spec_example.csv', format='csv')\n",
    "print(Spec)\n",
    "\n",
    "flux = Spec['flux']"
   ]
  },
  {
   "cell_type": "code",
   "execution_count": null,
   "id": "b341a851",
   "metadata": {},
   "outputs": [],
   "source": [
    "plt.figure()\n",
    "plt.plot( wave, flux, drawstyle='steps-mid')\n",
    "plt.xlabel('wavelength (microns)')\n",
    "plt.ylabel('Flux density - x 1e-15 erg/s/micron')\n",
    "plt.plot(wave, OIII_Hbeta(wave, *popt), 'r--')\n",
    "\n",
    "plt.xlim(2.16, 2.25)\n",
    "plt.show()"
   ]
  },
  {
   "cell_type": "code",
   "execution_count": null,
   "id": "1df063ee",
   "metadata": {},
   "outputs": [],
   "source": [
    "print('Best_fit value', popt)\n",
    "print('1 sigma errors', np.sqrt(np.diag(pcov)))\n"
   ]
  },
  {
   "cell_type": "markdown",
   "id": "c81f3090-2e21-4248-9ccd-b40aee99c406",
   "metadata": {},
   "source": [
    "### Calculating SNR\n",
    "\n",
    "we will now calculate the SNR of the line. This can be tricky for emission line, as we need to take into consideration not just the peak channel, but also other inside the emission line profile.\n",
    "\n",
    "The equation we use is as follows: \n",
    "\\begin{equation}\n",
    "SNR =  \\frac{\\sum_i \\rm flux_i}{ (\\sum_i error_i^2)^{1/2}} \n",
    "\\end{equation}\n",
    "\n",
    "Assuming that the errors per channel are the same:\n",
    "\n",
    "\\begin{equation}\n",
    "SNR = \\frac{1}{\\sqrt n} \\sum \\frac{ \\rm flux \\space  density}{\\rm error}\n",
    "\\end{equation}\n",
    "\n",
    "where the flux is the the flux density values at each channel within certain velocity/wavelength range, sigma is the uncertanties on the flux densities (error) and the n is the number of channels across the range of the emission line. "
   ]
  },
  {
   "cell_type": "code",
   "execution_count": null,
   "id": "f9a95d9e-b170-496e-ad2b-a3cd83e2bf07",
   "metadata": {
    "tags": []
   },
   "outputs": [],
   "source": [
    "wv0 = 5008*(1+popt[0])/1e4\n",
    "fwhm = popt[5]\n",
    "fwhm_wv = fwhm/3e5*wv0\n",
    "eml_model = gauss(wave,popt[3], wv0 , fwhm) \n",
    "\n",
    "\n",
    "use = np.where( ((wv0-fwhm_wv)<wave) & (wave< (wv0+fwhm_wv)))[0]\n",
    "flux_sel = eml_model[use]\n",
    "\n",
    "n = len(use)\n",
    "SNR = (sum(flux_sel)/np.sqrt(n)) * (1./error[100])\n",
    "print('SNR of the [OIII] line :', SNR)"
   ]
  },
  {
   "cell_type": "markdown",
   "id": "acdeb806-5d84-4053-9a64-b7e0bb6afa23",
   "metadata": {
    "tags": []
   },
   "source": [
    "the alternative way is to calculate it dirrectly from the MCMC as integrated flux/ error on the integrated flux. See how to caluclate the integrated flux below!\\frac{1}{\\sqrt{n}}\n",
    "\n",
    "\n",
    "## Estimating the integrated flux of the line\n",
    "\n",
    "It is now time to calculate all the properties of the line. The way we setup the fitting, we imddiatly have the emission line width (as FWHM in velocity space), redshift (location of the line). We now need to estimate the total integrated flux of the line. Luckily, for this we just need to integrate the flux density (flux per unit of wavelength) to get total flux. \n",
    "\n",
    "Unlike with SNR, the equation for flux is not dependant on the number of channels so we integrate the gaussian across all the channels (The Gaussian far away from our line is going to be 0, or very close to it). "
   ]
  },
  {
   "cell_type": "code",
   "execution_count": null,
   "id": "0b653ae5-0c81-47f9-a4fa-e624aef0d437",
   "metadata": {
    "tags": []
   },
   "outputs": [],
   "source": [
    "import scipy.integrate as scpi # we will use scipy's integrate simpsons function to do this\n",
    "            \n",
    "wv0 = 5008*(1+popt[0])/1e4\n",
    "fwhm = popt[5]\n",
    "\n",
    "a = 1./(2*(fwhm/3e5*wv0/2.35482)**2)\n",
    "Flux = popt[3]*np.sqrt(np.pi/a) *1e-15 # Remember when I said that we normalize the spectrum earlier? That where the 1e-15 factor comes in\n",
    "\n",
    "\n",
    "print('Flux of the line is: ', Flux, 'ergs/s/cm-2')"
   ]
  },
  {
   "cell_type": "markdown",
   "id": "c59b5405",
   "metadata": {},
   "source": [
    "## Fitting the Halpha + [NII]\n",
    "\n",
    "We can fit the spectrum this high SNR spectrum based on the skills we have learned in the previous notebook. The setup is going to be very similar but we will fit the Halpha. The Halpha is close to other emission lines - [NII] doublet and [SII] doublet. \n",
    "\n",
    "I have pre written part of the function below. However remember that the flues of [NII] doublet is 6585 and 6549 is tied together by a factor of 3 - similar to the [OIII] doublet in the previous notebook. Finally the [SII] doublet ratio is free.  "
   ]
  },
  {
   "cell_type": "code",
   "execution_count": null,
   "id": "641505d6",
   "metadata": {},
   "outputs": [],
   "source": [
    "# Defining the model for fitting emission lines around Halpha including of course Halpha itself. \n",
    "# Setting up a single Gaussian - will be used later \n",
    "def gauss(x, k, mu,FWHM):\n",
    "    sig = FWHM/2.35482/3e5*mu\n",
    "    expo= -((x-mu)**2)/(2*sig*sig) \n",
    "    y= k* e**expo\n",
    "    return y\n",
    "\n",
    "# Setting up the Halpha model:\n",
    "# First we calculate the observed frame wavelengths of the lines\n",
    "# Then we calculate the individfual components - Halpha, [NII] and [SII]\n",
    "# Finally we add all of them together\n",
    "def Halpha_NII_SII(x, z, cont,cont_grad,  Hal_peak, NII_peak, SIIr_peak, SIIb_peak, Nar_fwhm):\n",
    "    Hal_wv = 6564.52*(1+z)/1e4\n",
    "    NII_r = 6585.27*(1+z)/1e4\n",
    "    NII_b = 6549.86*(1+z)/1e4\n",
    "\n",
    "    SII_r = 6732.67*(1+z)/1e4\n",
    "    SII_b = 6718.29*(1+z)/1e4\n",
    "\n",
    "    Hal_nar = gauss(x, Hal_peak, Hal_wv, Nar_fwhm)\n",
    "\n",
    "    continuum = cont+x*cont_grad\n",
    "\n",
    "    return continuum+ Hal_nar + NII_r + NII_b + SII_r + SII_b\n"
   ]
  },
  {
   "cell_type": "markdown",
   "id": "af0c96bb",
   "metadata": {},
   "source": [
    "Next we will prep the data for fitting:\n",
    "1) will only include channels (data) that was not masked. \n",
    "\n",
    "2)  We are not really interested in fitting the whole spectral window. We are only interested in the range our the spectral line. I like to go +- 300 angstroms around the line.\n",
    "\n",
    "3) Lastly, we need to find the value of the peak of the line - we will use this when creating initial conditions. "
   ]
  },
  {
   "cell_type": "code",
   "execution_count": null,
   "id": "bdbfd078",
   "metadata": {},
   "outputs": [],
   "source": [
    "# Adjust these number to be around Halpha emission line \n",
    "fit_loc = np.where((obs_wave>(5008-300)*(1+z)/1e4)&(obs_wave<(5008+300)*(1+z)/1e4))[0] \n",
    "\n",
    "sel=  np.where(((obs_wave<(5008+20)*(1+z)/1e4))& (obs_wave>(5008-20)*(1+z)/1e4))[0]\n",
    "flux_zoom = D1_spec[sel]\n",
    "wave_zoom = obs_wave[sel]\n",
    "\n",
    "peak_loc = np.ma.argmax(flux_zoom)\n",
    "peak = np.ma.max(flux_zoom)\n",
    "\n",
    " # Estimate the error as the standard deviation of the flux in the fit region with 3 sigma clipping\n",
    "import astropy.stats as stats\n",
    "error = np.full_like(D1_spec, stats.sigma_clipped_stats(D1_spec[fit_loc], sigma=3)[2])"
   ]
  },
  {
   "cell_type": "markdown",
   "id": "78428c5e",
   "metadata": {},
   "source": [
    "## Least Square fitting\n",
    "\n",
    "We are going to first look into least square fitting, using the scipy's curve_fit function - box standard"
   ]
  },
  {
   "cell_type": "code",
   "execution_count": null,
   "id": "504066c0",
   "metadata": {},
   "outputs": [],
   "source": [
    "from scipy.optimize import curve_fit\n",
    "\n",
    "# Change initial conditions to match the variables in the function \n",
    "init_c = [z,np.median(D1_spec),0.01, peak, peak/4, 400. ]\n",
    "\n",
    "popt, pcov = curve_fit(Halpha_NII_SII, obs_wave[fit_loc], D1_spec[fit_loc], sigma= error[fit_loc], p0= init_c) "
   ]
  },
  {
   "cell_type": "markdown",
   "id": "c56ca065",
   "metadata": {},
   "source": [
    "## Extracting valuable information from the fits\n",
    "\n",
    "1) Now using the information we used in the 1_Emission_line_tutorial, you can estimate the flux of the different emission lines, their SNRs and FWHM and redshifts. \n",
    "\n",
    "2) Also you should fit the OIII+Hbeta emission lines and estimate its fluxes, SNR etc. "
   ]
  },
  {
   "cell_type": "code",
   "execution_count": null,
   "id": "b1059a39",
   "metadata": {},
   "outputs": [],
   "source": [
    "# Extract Emission line parameters from the fit"
   ]
  }
 ],
 "metadata": {
  "kernelspec": {
   "display_name": "base",
   "language": "python",
   "name": "python3"
  },
  "language_info": {
   "codemirror_mode": {
    "name": "ipython",
    "version": 3
   },
   "file_extension": ".py",
   "mimetype": "text/x-python",
   "name": "python",
   "nbconvert_exporter": "python",
   "pygments_lexer": "ipython3",
   "version": "3.11.5"
  }
 },
 "nbformat": 4,
 "nbformat_minor": 5
}
