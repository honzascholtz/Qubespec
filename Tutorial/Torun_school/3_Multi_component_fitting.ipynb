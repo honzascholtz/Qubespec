{
 "cells": [
  {
   "cell_type": "markdown",
   "id": "3c53d500-f9f3-4dbe-9770-e835d11b25a6",
   "metadata": {},
   "source": [
    "# Tutorial on how to fit emission line and use IFU data - KMOS/SINFONI/JWST etc"
   ]
  },
  {
   "cell_type": "markdown",
   "id": "8123e0db-64ce-4cd4-abda-7234d63a60d2",
   "metadata": {},
   "source": [
    "Here I am going to go through basic of analysing IFU data and fitting emission lines. First, in order to quickly look at IFU cubes, I recommend QFits. https://www.mpe.mpg.de/~ott/QFitsView/. \n",
    "\n",
    "To read more about Integral Field Spectroscopy, I recommend section 2.2 of my thesis: http://etheses.dur.ac.uk/13311/1/Thesis_cor_mk_II.pdf?DDD25+ or from Chris Harrison; Chapter 2. http://etheses.dur.ac.uk/10744/1/cmh_thesis.pdf?DDD25+\n"
   ]
  },
  {
   "cell_type": "markdown",
   "id": "d8051688-a9b6-4b3c-9e6f-c0b53b5171c0",
   "metadata": {},
   "source": [
    "# Dealing wih IFU data"
   ]
  },
  {
   "cell_type": "markdown",
   "id": "e05ac9ea-b0bd-4cff-b777-b39055a0cf6a",
   "metadata": {},
   "source": [
    "We will first start with loading the cube and extracting a spectrum. We will then continue to write a simple fitting code to fit the spectrum from the previous tutorial. \n",
    "\n",
    "Lets start with importing basic libraries. This is a start of every code I write. "
   ]
  },
  {
   "cell_type": "code",
   "execution_count": 6,
   "id": "648946f5-8207-4dba-bf42-76effb944ccf",
   "metadata": {
    "tags": []
   },
   "outputs": [],
   "source": [
    "#importing modules\n",
    "import numpy as np\n",
    "import matplotlib.pyplot as plt; plt.ioff()\n",
    "\n",
    "from astropy.io import fits as pyfits\n",
    "from astropy import wcs\n",
    "from astropy.table import Table, join, vstack\n",
    "from matplotlib.backends.backend_pdf import PdfPages\n",
    "import pickle\n",
    "from scipy.optimize import curve_fit\n",
    "\n",
    "import emcee\n",
    "import corner \n",
    "\n",
    "from os.path import exists\n",
    "nan= float('nan')\n",
    "\n",
    "pi= np.pi\n",
    "e= np.e\n",
    "\n",
    "plt.close('all')\n",
    "c= 3.*10**8\n",
    "h= 6.62*10**-34\n",
    "k= 1.38*10**-23\n",
    "\n",
    "\n",
    "\n",
    "PATH='/Users/jansen/My Drive/Astro/'\n"
   ]
  },
  {
   "cell_type": "markdown",
   "id": "0f3c841e",
   "metadata": {},
   "source": [
    "## Loading the JWST IFS cube. \n",
    "\n",
    "We will now load the IFU cube and extract all of the import information. We need to extract the wavelength grid and the data cube and the header information. "
   ]
  },
  {
   "cell_type": "code",
   "execution_count": 7,
   "id": "c6face23-d453-48dc-b970-215697c96c4e",
   "metadata": {
    "tags": []
   },
   "outputs": [],
   "source": [
    "path = '/Users/jansen/JADES/GA_NIFS/IFS_data_v1/' \n",
    "file_name = '5001-GS-3.47-S_jw1216_o005_ff_px0.05_drizzle_ODfde98_3_VSC_MRC_MSA_m2ff_CTX1068.pmap_v1.8.2_g235h-f170lp_cgs_s3d.fits' # Full path to the file\n",
    "\n",
    "Full_path = path + file_name\n",
    "\n",
    "with pyfits.open(Full_path, memmap=False) as hdulist:\n",
    "\n",
    "    Flux_cube = hdulist['SCI'].data *1e4 * 1e15\n",
    "    Header = hdulist['SCI'].header\n",
    "\n",
    "    n_channels = Header['NAXIS3'] # Extract the number pixels in the third axis (wavelength)\n",
    "    obs_wave = Header['CRVAL3'] + (np.arange(n_channels) - (Header['CRPIX3'] - 1.0))*Header['CDELT3'] # Extract the wavelength grid\n",
    "\n",
    "\n",
    "z = 3.471\n",
    "\n",
    "plt.show()\n"
   ]
  },
  {
   "cell_type": "markdown",
   "id": "691fc819",
   "metadata": {},
   "source": [
    "## Extracting a spectrum from multiple spaxel together - circular aperture \n",
    "\n",
    "The best thing about IFS is that we extract spectrum from anywhere in the galaxy to investigate the properties in that section. We can use a very simple circular mask to setup to create a spectrum with a sum of all of the spaxels. "
   ]
  },
  {
   "cell_type": "code",
   "execution_count": 8,
   "id": "89ae5d4a",
   "metadata": {},
   "outputs": [
    {
     "data": {
      "image/png": "[encoded data removed]",
      "text/plain": [
       "<Figure size 1000x500 with 1 Axes>"
      ]
     },
     "metadata": {},
     "output_type": "display_data"
    }
   ],
   "source": [
    "def sp_circ_ap(cenx,ceny,rad,Flux_cube):\n",
    "\n",
    "    nwl = len(Flux_cube[:,0,0])\n",
    "    nx = len(Flux_cube[0,0,:])\n",
    "    ny = len(Flux_cube[0,:,0])\n",
    "    # creates array with one spectrum per row\n",
    "    intermarray = np.full((nwl,nx*ny), np.nan)\n",
    "    # fills it with nans\n",
    "    \n",
    "    nloop = 0\n",
    "    # loop on data\n",
    "    for x in range(nx) :\n",
    "        for y in range(ny) :  \n",
    "            distance = np.sqrt((x-cenx)**2+(y-ceny)**2)\n",
    "            if distance < rad :\n",
    "                intermarray[:,int(nloop)] = Flux_cube[:,int(y),int(x)]\n",
    "                nloop += 1\n",
    "               \n",
    "    # average\n",
    "    outspec = np.nansum(intermarray,axis=1)\n",
    "    return outspec\n",
    "\n",
    "# This function extracts the spectrum from a circular aperture of radius 5 pixels centered on the sp\n",
    "D1_spec = sp_circ_ap(44,47,5,Flux_cube) # 5 pixel radius aperture centered on the spaxel at (44,47)\n",
    "\n",
    "D1_spec = np.ma.masked_invalid(D1_spec ) # Mask invalid values (nans, infs etc.)\n",
    "\n",
    "f, ax = plt.subplots(1, 1, figsize=(10, 5))\n",
    "\n",
    "x,y  = 44,47 # Coordinates of the spaxel we want to extract the spectrum from\n",
    "ax.plot( obs_wave, D1_spec, drawstyle='steps-mid')\n",
    "ax.set_xlabel('wavelength [microns]')\n",
    "ax.set_ylabel('Flux density - x1e-15 erg/s/micron')\n",
    "\n",
    "ylow = -0.0\n",
    "yhig = 25\n",
    "\n",
    "ax.vlines(0.500824*(1+z),ylow,yhig, linestyle='dashed',color='orange', alpha=0.8)\n",
    "\n",
    "ax.vlines(0.65645*(1+z),ylow,yhig, linestyle='dashed',color='k', alpha=0.5)\n",
    "ax.vlines(0.486263*(1+z),ylow,yhig, linestyle='dashed',color='k', alpha=0.5)\n",
    "\n",
    "ax.vlines(0.673267*(1+z),ylow,yhig, linestyle='dashed',color='k', alpha=0.5)\n",
    "ax.set_xlim(2.15,2.25)\n",
    "ax.set_ylim(-0.,30.)\n",
    "\n",
    "plt.show()"
   ]
  },
  {
   "cell_type": "markdown",
   "id": "f3fd771c",
   "metadata": {},
   "source": [
    "## Fitting the spectrum \n",
    "\n",
    "Please fit the spectrum of the [OIII] using the methods we have used in previous section to "
   ]
  },
  {
   "cell_type": "code",
   "execution_count": 9,
   "id": "d4c0eddc",
   "metadata": {},
   "outputs": [],
   "source": [
    "# Fit the OIII and Hbeta lines of our the combined spectrum. "
   ]
  },
  {
   "cell_type": "markdown",
   "id": "92b64e9f",
   "metadata": {},
   "source": [
    "# Fitting multi components to the [OIII]\n",
    "\n",
    "We will now focus on fitting multiple kinematical components to one emission line. First we will fit emission the single compoennt like above and the also one where we fit additional Gaussian component to each emission line with tied redshift/velocity offset and FWHM of this new component. "
   ]
  },
  {
   "cell_type": "code",
   "execution_count": null,
   "id": "19182c4c",
   "metadata": {},
   "outputs": [],
   "source": [
    "# Defining the model for fitting emission lines around Halpha including of course Halpha itself. \n",
    "# Setting up a single Gaussian - will be used later \n",
    "def gauss(x, k, mu,FWHM):\n",
    "    sig = FWHM/2.35482/3e5*mu\n",
    "    expo= -((x-mu)**2)/(2*sig*sig) \n",
    "    y= k* e**expo\n",
    "    return y\n",
    "\n",
    "# Setting up the Halpha model:\n",
    "# First we calculate the observed frame wavelengths of the lines\n",
    "# Then we calculate the individfual components - Halpha, [NII] and [SII]\n",
    "# Finally we add all of them together\n",
    "def OIII_Hbeta(x, z, cont,cont_grad,  OIII_peak, Hbeta_peak, Nar_fwhm):\n",
    "    OIIIr_wv = 5008.24*(1+z)/1e4    \n",
    "    OIIIb_wv = 4960.*(1+z)/1e4\n",
    "    Hbeta_wv = 4862.6*(1+z)/1e4\n",
    "    \n",
    "    OIII_nar = gauss(x, OIII_peak, OIIIr_wv, Nar_fwhm) + gauss(x, OIII_peak/2.99, OIIIb_wv, Nar_fwhm)\n",
    "\n",
    "    Hbeta_nar = gauss(x, Hbeta_peak, Hbeta_wv, Nar_fwhm)\n",
    "    continuum = cont+x*cont_grad\n",
    "\n",
    "    return continuum+ OIII_nar + Hbeta_nar\n",
    "\n",
    "def OIII_Hbeta_outflow(x, z, cont,cont_grad,  OIII_peak, Hbeta_peak, Nar_fwhm, OIII_out_peak, Hbeta_out_peak, outflow_fwhm, outflow_vel):\n",
    "    OIIIr_wv = 5008.24*(1+z)/1e4    \n",
    "    OIIIb_wv = 4960.*(1+z)/1e4\n",
    "    Hbeta_wv = 4862.6*(1+z)/1e4\n",
    "    \n",
    "    Narrow = gauss(x, OIII_peak, OIIIr_wv, Nar_fwhm) + gauss(x, OIII_peak/2.99, OIIIb_wv, Nar_fwhm)+\\\n",
    "        gauss(x, Hbeta_peak, Hbeta_wv, Nar_fwhm)\n",
    "\n",
    "    continuum = cont+x*cont_grad\n",
    "\n",
    "    OIIIr_wv_broad = 5008.24*(1+z)/1e4  + outflow_vel/3e5* 5008.24*(1+z)/1e4\n",
    "    OIIIb_wv_broad = 4960.*(1+z)/1e4  + outflow_vel/3e5* 4960.*(1+z)/1e4\n",
    "    Hbeta_wv_broad = 4862.6*(1+z)/1e4  + outflow_vel/3e5* 4862.6*(1+z)/1e4\n",
    "\n",
    "    Broad = gauss(x, OIII_out_peak, OIIIr_wv_broad, outflow_fwhm) + gauss(x, OIII_out_peak/2.99, OIIIb_wv_broad, outflow_fwhm)+\\\n",
    "        gauss(x, Hbeta_out_peak, Hbeta_wv_broad, outflow_fwhm)\n",
    "\n",
    "    return continuum + Narrow + Broad\n",
    "\n",
    "\n",
    "\n",
    "def Halpha_NII_SII_outflow(x, z, cont,cont_grad,  Hal_peak, NII_peak, SIIr_peak, SIIb_peak, Nar_fwhm, Hal_out_peak, NII_out_peak, outflow_fwhm, outflow_vel):\n",
    "    Hal_wv = 6564.52*(1+z)/1e4\n",
    "    NII_r = 6585.27*(1+z)/1e4\n",
    "    NII_b = 6549.86*(1+z)/1e4\n",
    "\n",
    "    SII_r = 6732.67*(1+z)/1e4\n",
    "    SII_b = 6718.29*(1+z)/1e4\n",
    "\n",
    "    Narrow = gauss(x, Hal_peak, Hal_wv, Nar_fwhm) +\\\n",
    "        gauss(x, NII_peak, NII_r,  Nar_fwhm) + gauss(x, NII_peak/3, NII_b,  Nar_fwhm) + \\\n",
    "        gauss(x, SIIr_peak, SII_r,  Nar_fwhm)  + gauss(x, SIIb_peak, SII_b,  Nar_fwhm)\n",
    "    \n",
    "    Hal_wv_out = 6564.52*(1+z)/1e4+ outflow_vel/3e5* 6564.52*(1+z)/1e4\n",
    "    NII_r_out = 6585.27*(1+z)/1e4 + outflow_vel/3e5* 6585.27*(1+z)/1e4\n",
    "    NII_b_out = 6549.86*(1+z)/1e4 + outflow_vel/3e5* 6549.86*(1+z)/1e4\n",
    "\n",
    "    Broad = gauss(x, Hal_out_peak, Hal_wv_out, outflow_fwhm) +\\\n",
    "        gauss(x, NII_out_peak, NII_r_out,  outflow_fwhm) + gauss(x, NII_out_peak/3, NII_b_out,  outflow_fwhm)\n",
    "\n",
    "\n",
    "    continuum = cont+x*cont_grad\n",
    "\n",
    "    return continuum+ Narrow + Broad"
   ]
  },
  {
   "cell_type": "code",
   "execution_count": 19,
   "id": "8acb4ef2",
   "metadata": {},
   "outputs": [
    {
     "name": "stdout",
     "output_type": "stream",
     "text": [
      "[  3.47102175   4.78022298  -1.45480289  14.46000612   6.39940345\n",
      " 168.28177841   4.89469647   2.0007175  364.02441919 -15.07484145] [1.22810092e-05 1.68962467e-01 7.53566966e-02 5.86389133e-01\n",
      " 3.06570528e-01 3.96458230e+00 6.05630276e-01 2.84864572e-01\n",
      " 1.72094629e+01 4.36044341e+00]\n"
     ]
    },
    {
     "data": {
      "image/png": "[encoded data removed]",
      "text/plain": [
       "<Figure size 640x480 with 1 Axes>"
      ]
     },
     "metadata": {},
     "output_type": "display_data"
    }
   ],
   "source": [
    "flux = D1_spec.data[np.invert(D1_spec.mask)]\n",
    "wave = obs_wave[np.invert(D1_spec.mask)]\n",
    "    \n",
    "fit_loc = np.where((wave>(5008-300)*(1+z)/1e4)&(wave<(5008+300)*(1+z)/1e4))[0]\n",
    "    \n",
    "sel=  np.where(((wave<(5008+20)*(1+z)/1e4))& (wave>(5008-20)*(1+z)/1e4))[0]\n",
    "flux_zoom = flux[sel]\n",
    "wave_zoom = wave[sel]\n",
    "    \n",
    "peak_loc = np.ma.argmax(flux_zoom)\n",
    "peak = np.ma.max(flux_zoom)\n",
    "\n",
    "import astropy.stats as stats\n",
    "sigma = stats.sigma_clipped_stats(flux_zoom, sigma=3, maxiters=5)[2]\n",
    "# sigma is the standard deviation of the flux in the selected region\n",
    "error = np.ones_like(flux) * sigma\n",
    "\n",
    "from scipy.optimize import curve_fit\n",
    "\n",
    "init_c = [z,np.median(flux),0.01, peak, peak/4, 300., peak/10, peak/15, 500, -100 ]\n",
    "\n",
    "popt_outflow, pcov_outflow = curve_fit(OIII_Hbeta_outflow, wave[fit_loc], flux[fit_loc], sigma= error[fit_loc], p0= init_c)\n",
    "\n",
    "print(popt_outflow, np.sqrt(np.diag(pcov_outflow)))\n",
    "plt.figure()\n",
    "plt.plot( wave, flux, drawstyle='steps-mid')\n",
    "plt.xlabel('wavelength (microns)')\n",
    "plt.ylabel('Flux density - x 1e-15 erg/s/micron')\n",
    "plt.plot(wave, OIII_Hbeta_outflow(wave, *popt_outflow), 'r--')\n",
    "\n",
    "z= popt_outflow[0]\n",
    "OIIIr_wv_broad = 5008.24*(1+z)/1e4  + popt_outflow[9]/3e5* 5008.24*(1+z)/1e4\n",
    "plt.plot(wave, gauss(wave, popt_outflow[6], OIIIr_wv_broad, popt_outflow[8]), 'g--')\n",
    "\n",
    "plt.plot(wave, gauss(wave, popt_outflow[3], 5008.24*(1+z)/1e4, popt_outflow[5]), 'b--')\n",
    "\n",
    "plt.xlim(2.16, 2.25)\n",
    "\n",
    "plt.show()"
   ]
  },
  {
   "cell_type": "markdown",
   "id": "a91a2cee",
   "metadata": {},
   "source": [
    "### What is the better model for our data?\n",
    "\n",
    "Fit the emission line using the leastsq like above using the outflow model. We can now start comparing the model best fits and see what is the best model for the data. There are many different ways to do this. We can calculate:\n",
    "\n",
    "1. Chi2 or reduced chi2 and see what is lower value -\n",
    "\n",
    "\\begin{equation}\n",
    " \\chi^{2}=  \\sum \\frac{ (data-model)^2}{ error^2 } \n",
    "\\end{equation}\n",
    "\n",
    "\\begin{equation}\n",
    " reduced chi^{2}=  \\frac{1}{n-m} \\sum\\frac{ (data-model)^2}{ error^2 } \n",
    "\\end{equation}\n",
    "\n",
    "where n is the number of data points we are fitting and the m is the number of parameters in our model. \n",
    "\n",
    "2. BIC: \n",
    "\n",
    "\\begin{equation}\n",
    " BIC = \\chi^{2} + n \\times ln(m)\n",
    "\\end{equation}\n",
    "\n",
    "We can then select things we lowest $\\chi^2$ reduced $\\chi^2$ or BIC. That we can see if we have a good enough fit with a single component fit or we need something more complex. "
   ]
  },
  {
   "cell_type": "code",
   "execution_count": 21,
   "id": "6989fdf6",
   "metadata": {},
   "outputs": [
    {
     "name": "stdout",
     "output_type": "stream",
     "text": [
      "Chi2: 163.47426005636865\n",
      "Reduced Chi2: 0.24508884566172212\n",
      "BIC: 228.6509727854914\n"
     ]
    }
   ],
   "source": [
    "# Estimate the chi2, reduced chi2 and BIC and pick the best model. \n",
    "\n",
    "data_sel = flux[fit_loc]\n",
    "error_sel = error[fit_loc]\n",
    "wave_sel = wave[fit_loc]\n",
    "model = OIII_Hbeta_outflow(wave_sel, *popt_outflow)\n",
    "\n",
    "chi2 = np.sum( (data_sel - model)**2 / error_sel**2 )\n",
    "reduced_chi2 = chi2 / (len(fit_loc) - len(popt_outflow))\n",
    "\n",
    "BIC = chi2 + len(popt_outflow) * np.log(len(fit_loc))\n",
    "\n",
    "\n",
    "print('Chi2:', chi2)\n",
    "print('Reduced Chi2:', reduced_chi2)\n",
    "print('BIC:', BIC)"
   ]
  }
 ],
 "metadata": {
  "kernelspec": {
   "display_name": "base",
   "language": "python",
   "name": "python3"
  },
  "language_info": {
   "codemirror_mode": {
    "name": "ipython",
    "version": 3
   },
   "file_extension": ".py",
   "mimetype": "text/x-python",
   "name": "python",
   "nbconvert_exporter": "python",
   "pygments_lexer": "ipython3",
   "version": "3.11.5"
  }
 },
 "nbformat": 4,
 "nbformat_minor": 5
}
