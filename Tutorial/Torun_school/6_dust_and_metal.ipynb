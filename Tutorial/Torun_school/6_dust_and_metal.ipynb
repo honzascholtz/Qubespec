{
 "cells": [
  {
   "cell_type": "code",
   "execution_count": null,
   "id": "04e92c8f",
   "metadata": {},
   "outputs": [],
   "source": [
    "#importing modules\n",
    "import numpy as np\n",
    "import matplotlib.pyplot as plt; plt.ioff()\n",
    "\n",
    "from astropy.io import fits as pyfits\n",
    "from astropy import wcs\n",
    "from astropy.table import Table, join, vstack\n",
    "from matplotlib.backends.backend_pdf import PdfPages\n",
    "import pickle\n",
    "from scipy.optimize import curve_fit\n",
    "\n",
    "import emcee\n",
    "import corner \n",
    "\n",
    "from os.path import exists\n",
    "nan= float('nan')\n",
    "\n",
    "pi= np.pi\n",
    "e= np.e\n",
    "\n",
    "plt.close('all')\n",
    "c= 3.*10**8\n",
    "h= 6.62*10**-34\n",
    "k= 1.38*10**-23\n",
    "\n",
    "\n",
    "\n",
    "PATH='/Users/jansen/My Drive/Astro/'\n"
   ]
  },
  {
   "cell_type": "code",
   "execution_count": 25,
   "id": "31c0e8d4",
   "metadata": {},
   "outputs": [
    {
     "name": "stdout",
     "output_type": "stream",
     "text": [
      "Av =  1.008596263382641\n",
      "Flux of Halpha corrected for extinction:  1.1481214090612934e-16 ergs/s/cm-2\n"
     ]
    }
   ],
   "source": [
    "import pyneb as pn\n",
    "\n",
    "Flux_halpha = 5.480300076954449e-17\n",
    "Flux_hbeta = 1.317198265055217e-17\n",
    "\n",
    "Intrinsic_rat = 2.86\n",
    "\n",
    "rc = pn.RedCorr(law= 'CCM89', R_V=2.505)\n",
    "rc.setCorr((Flux_halpha/Flux_hbeta)/Intrinsic_rat, wave1=6563, wave2=4861)\n",
    "\n",
    "\n",
    "Flux_halpha_cor  = Flux_halpha* rc.getCorr(6563)\n",
    "\n",
    "print('Av = ', rc.AV)\n",
    "print('Flux of Halpha corrected for extinction: ', Flux_halpha_cor, 'ergs/s/cm-2')\n",
    "\n"
   ]
  },
  {
   "cell_type": "markdown",
   "id": "fcc6a41a",
   "metadata": {},
   "source": [
    "## With Bootstrapping"
   ]
  },
  {
   "cell_type": "code",
   "execution_count": 64,
   "id": "02751a1f",
   "metadata": {},
   "outputs": [
    {
     "name": "stdout",
     "output_type": "stream",
     "text": [
      "Av =  1.0132703679748718 +- 0.20550549490986725\n",
      "Flux of Halpha corrected for extinction:  1.1434764060355305e-16 +- 1.7665907064024363e-17 ergs/s/cm-2\n"
     ]
    }
   ],
   "source": [
    "Flux_halpha = 5.480300076954449e-17\n",
    "Flux_halpha_err = 5.480300076954449e-17/20\n",
    "Flux_hbeta = 1.317198265055217e-17\n",
    "Flux_hbeta_err = 1.317198265055217e-17/20\n",
    "\n",
    "Intrinsic_rat = 2.86\n",
    "\n",
    "rc = pn.RedCorr(law= 'CCM89', R_V=2.505)\n",
    "\n",
    "\n",
    "rc.setCorr((np.random.normal(Flux_halpha, Flux_halpha_err, 100)/np.random.normal(Flux_hbeta, Flux_hbeta_err, 100))/Intrinsic_rat, wave1=6563, wave2=4861)\n",
    "\n",
    "\n",
    "Flux_halpha_cor  = np.random.normal(Flux_halpha, Flux_halpha_err, 100)* rc.getCorr(6563)\n",
    "\n",
    "print('Av = ', np.median(rc.AV), '+-', np.std(rc.AV))\n",
    "print('Flux of Halpha corrected for extinction: ', np.mean(Flux_halpha_cor), '+-', np.std(Flux_halpha_cor), 'ergs/s/cm-2')\n",
    "\n"
   ]
  },
  {
   "cell_type": "markdown",
   "id": "5588966a",
   "metadata": {},
   "source": [
    "## SFR"
   ]
  },
  {
   "cell_type": "code",
   "execution_count": 27,
   "id": "a9bc1f0d",
   "metadata": {},
   "outputs": [
    {
     "name": "stdout",
     "output_type": "stream",
     "text": [
      "Luminosity 1.2989700508875753e+43 erg / s\n",
      "SFR =  69.75882198593081 Msun/yr\n"
     ]
    }
   ],
   "source": [
    "redshift = 3.45\n",
    "from astropy.cosmology import Planck18 as cosmo\n",
    "import astropy.units as u \n",
    "lum = (Flux_halpha_cor*u.erg/u.s/u.cm**2) * 4*np.pi*(cosmo.luminosity_distance(redshift))**2  \n",
    "lum = lum.to(u.erg/u.s)  # Convert to ergs/s\n",
    "print('Luminosity', lum,) #'ergs/s')\n",
    "\n",
    "# SFR calibration in https://ui.adsabs.harvard.edu/abs/2012ARA%26A..50..531K/abstract\n",
    "# Table 1, page 17 of PDF, 547 of the review\n",
    "CX = 10**-41.27\n",
    "SFR = lum.value * CX\n",
    "\n",
    "print(  'SFR = ', SFR, 'Msun/yr')"
   ]
  },
  {
   "cell_type": "markdown",
   "id": "c9be1bf9",
   "metadata": {},
   "source": [
    "# Metallicities\n",
    "\n",
    "After you corrected you fluxes for dust obscuration, we can start looking into the metallicities. You can calculate the following emission line rations:\n",
    "\n",
    "NII6584/Halpha\n",
    "\n",
    "OIII5007/Hbeta\n",
    "\n",
    "SII6718,6732/Halpha\n",
    "\n",
    "You can find the calibration: https://ui.adsabs.harvard.edu/abs/2020MNRAS.491..944C/abstract\n",
    "\n",
    "You can plot the calibration of line ratio vs metallciity seen in Figure 1 and parameters in Table 2. \n",
    "\n",
    "They are polynomials = C0 + c1 X**1 + c2 X**2 + c3 x**3 etc...\n",
    "\n",
    "You can then estimate the metallicities from the different line ratios - final metallicity should be average of those 3 values with errors as the range. \n",
    "\n",
    "You can read it from the plot for now, later on, we should write a minimizer code. \n"
   ]
  },
  {
   "cell_type": "code",
   "execution_count": 54,
   "id": "30ba78e2",
   "metadata": {},
   "outputs": [
    {
     "name": "stdout",
     "output_type": "stream",
     "text": [
      "R3 =  8.449999999999982 log10(Z/Zsun)\n"
     ]
    },
    {
     "data": {
      "image/png": "[encoded data removed]",
      "text/plain": [
       "<Figure size 800x600 with 1 Axes>"
      ]
     },
     "metadata": {},
     "output_type": "display_data"
    }
   ],
   "source": [
    "R3_param = [-0.277, -3.549, -3.593,  -0.981]\n",
    "x_met = np.linspace(7.5,9,100)-8.69\n",
    "\n",
    "met = np.arange(7.6, 8.9, 0.01)\n",
    "x = met - 8.69\n",
    "R3_eval = -0.277 + -3.549*x + -3.593*(x**2) + -0.981*(x**3)\n",
    "f,ax = plt.subplots(figsize=(8,6))\n",
    "ax.plot(met, R3_eval, label='R3')\n",
    "\n",
    "loc_r3 = np.argmin(np.abs(R3_eval - np.log10(3.146370792496217/1.317198265055217)))\n",
    "print('R3 = ', met[loc_r3], 'log10(Z/Zsun)')\n",
    "\n",
    "plt.show()"
   ]
  },
  {
   "cell_type": "markdown",
   "id": "33698eaf",
   "metadata": {},
   "source": []
  }
 ],
 "metadata": {
  "kernelspec": {
   "display_name": "base",
   "language": "python",
   "name": "python3"
  },
  "language_info": {
   "codemirror_mode": {
    "name": "ipython",
    "version": 3
   },
   "file_extension": ".py",
   "mimetype": "text/x-python",
   "name": "python",
   "nbconvert_exporter": "python",
   "pygments_lexer": "ipython3",
   "version": "3.11.5"
  }
 },
 "nbformat": 4,
 "nbformat_minor": 5
}
