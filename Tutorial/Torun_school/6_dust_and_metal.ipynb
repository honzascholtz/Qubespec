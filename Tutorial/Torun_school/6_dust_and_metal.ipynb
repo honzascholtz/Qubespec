{
 "cells": [
  {
   "cell_type": "code",
   "execution_count": null,
   "id": "04e92c8f",
   "metadata": {},
   "outputs": [],
   "source": [
    "#importing modules\n",
    "import numpy as np\n",
    "import matplotlib.pyplot as plt; plt.ioff()\n",
    "\n",
    "from astropy.io import fits as pyfits\n",
    "from astropy import wcs\n",
    "from astropy.table import Table, join, vstack\n",
    "from matplotlib.backends.backend_pdf import PdfPages\n",
    "import pickle\n",
    "from scipy.optimize import curve_fit\n",
    "\n",
    "import emcee\n",
    "import corner \n",
    "\n",
    "from os.path import exists\n",
    "nan= float('nan')\n",
    "\n",
    "pi= np.pi\n",
    "e= np.e\n",
    "\n",
    "plt.close('all')\n",
    "c= 3.*10**8\n",
    "h= 6.62*10**-34\n",
    "k= 1.38*10**-23\n",
    "\n",
    "\n",
    "\n",
    "PATH='/Users/jansen/My Drive/Astro/'\n"
   ]
  },
  {
   "cell_type": "code",
   "execution_count": null,
   "id": "31c0e8d4",
   "metadata": {},
   "outputs": [],
   "source": [
    "import pyneb as pn\n",
    "\n",
    "Flux_halpha = 4e-17\n",
    "Flux_hbeta = 1e-17\n",
    "\n",
    "Intrinsic_rat = 2.86\n",
    "\n",
    "rc = pn.RedCorr(law= 'CCM89', R_V=2.505)\n",
    "rc.setCorr((Flux_halpha/Flux_hbeta)/Intrinsic_rat, wave1=6563, wave2=4861)\n",
    "\n",
    "\n",
    "Flux_halpha_cor  = Flux_halpha* rc.getCorr(6563)\n",
    "\n",
    "print('Av = ', rc.AV)\n",
    "print('Flux of Halpha corrected for extinction: ', Flux_halpha_cor, 'ergs/s/cm-2')\n",
    "\n"
   ]
  },
  {
   "cell_type": "markdown",
   "id": "5588966a",
   "metadata": {},
   "source": [
    "## SFR"
   ]
  },
  {
   "cell_type": "code",
   "execution_count": null,
   "id": "a9bc1f0d",
   "metadata": {},
   "outputs": [],
   "source": [
    "redshift = 3.4\n",
    "from astropy.cosmology import Planck18 as cosmo\n",
    "import astropy.units as u \n",
    "lum = (Flux_halpha_cor*u.erg/u.s/u.cm**2) * 4*np.pi*(cosmo.luminosity_distance(redshift))**2  \n",
    "lum = lum.to(u.erg/u.s)  # Convert to ergs/s\n",
    "print('Luminosity', lum,) #'ergs/s')\n",
    "\n",
    "# SFR calibration in https://ui.adsabs.harvard.edu/abs/2012ARA%26A..50..531K/abstract\n",
    "# Table 1, page 17 of PDF, 547 of the review\n",
    "CX = 1\n",
    "SFR = lum.value * CX\n",
    "\n",
    "print(  'SFR = ', SFR, 'Msun/yr')"
   ]
  }
 ],
 "metadata": {
  "kernelspec": {
   "display_name": "base",
   "language": "python",
   "name": "python3"
  },
  "language_info": {
   "codemirror_mode": {
    "name": "ipython",
    "version": 3
   },
   "file_extension": ".py",
   "mimetype": "text/x-python",
   "name": "python",
   "nbconvert_exporter": "python",
   "pygments_lexer": "ipython3",
   "version": "3.11.5"
  }
 },
 "nbformat": 4,
 "nbformat_minor": 5
}
