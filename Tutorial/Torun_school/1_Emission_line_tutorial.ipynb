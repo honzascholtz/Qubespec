{
 "cells": [
  {
   "cell_type": "markdown",
   "id": "3c53d500-f9f3-4dbe-9770-e835d11b25a6",
   "metadata": {},
   "source": [
    "# Tutorial on how to fit emission line and use IFU data - KMOS/SINFONI/JWST etc"
   ]
  },
  {
   "cell_type": "markdown",
   "id": "8123e0db-64ce-4cd4-abda-7234d63a60d2",
   "metadata": {},
   "source": [
    "Here I am going to go through basic of analysing IFU data and fitting emission lines. First, in order to quickly look at IFU cubes, I recommend QFits. https://www.mpe.mpg.de/~ott/QFitsView/. \n",
    "\n",
    "To read more about Integral Field Spectroscopy, I recommend section 2.2 of my thesis: http://etheses.dur.ac.uk/13311/1/Thesis_cor_mk_II.pdf?DDD25+ or from Chris Harrison; Chapter 2. http://etheses.dur.ac.uk/10744/1/cmh_thesis.pdf?DDD25+\n"
   ]
  },
  {
   "cell_type": "markdown",
   "id": "d8051688-a9b6-4b3c-9e6f-c0b53b5171c0",
   "metadata": {},
   "source": [
    "## Fitting OIII of already extracted spectrum - the basics"
   ]
  },
  {
   "cell_type": "markdown",
   "id": "e05ac9ea-b0bd-4cff-b777-b39055a0cf6a",
   "metadata": {},
   "source": [
    "We will first focus on fitting [OIII]5008, [OIII]4960 and Hbeta in galaxy from JADES survey called JADES-NS-9422. \n",
    "\n",
    "Lets start with importing basic libraries. This is a start of every code I write. "
   ]
  },
  {
   "cell_type": "code",
   "execution_count": null,
   "id": "648946f5-8207-4dba-bf42-76effb944ccf",
   "metadata": {
    "tags": []
   },
   "outputs": [],
   "source": [
    "#importing modules\n",
    "import numpy as np\n",
    "import matplotlib.pyplot as plt; plt.ioff()\n",
    "\n",
    "from astropy.io import fits as pyfits\n",
    "from astropy import wcs\n",
    "from astropy.table import Table, join, vstack\n",
    "from matplotlib.backends.backend_pdf import PdfPages\n",
    "import pickle\n",
    "from scipy.optimize import curve_fit\n",
    "\n",
    "import emcee\n",
    "import corner \n",
    "\n",
    "from os.path import exists\n",
    "nan= float('nan')\n",
    "\n",
    "pi= np.pi\n",
    "e= np.e\n",
    "\n",
    "plt.close('all')\n",
    "c= 3.*10**8\n",
    "h= 6.62*10**-34\n",
    "k= 1.38*10**-23\n",
    "\n",
    "Ken98= (4.5*10**-44)\n",
    "Conversion2Chabrier=1.7 # Also Madau\n",
    "Calzetti12= 2.8*10**-44\n",
    "arrow = u'$\\u2193$' \n",
    "\n",
    "\n",
    "PATH='/Users/jansen/My Drive/Astro/'\n"
   ]
  },
  {
   "cell_type": "markdown",
   "id": "8b6fc3cc-f723-43b9-98db-a7c008924ab4",
   "metadata": {},
   "source": [
    "First we load the spectrum that is in the tutorial folder. The spectrum was saved using np.savetxt and contains following rows: \n",
    "1) observed wavelength (in microns)\n",
    "2) flux density - due to some legacy reasons, the spectrum is divided by 1e-13. This will only matter when calculating the integrated fluxes. \n",
    "3) std on the spectrum - (this is the same error on each pixel).\n",
    "4) Mask 0 Masking bad pixels due to inperfect subtraction of the sky - this will be further discussed during extraction of the spectrum from the cube"
   ]
  },
  {
   "cell_type": "code",
   "execution_count": null,
   "id": "c6face23-d453-48dc-b970-215697c96c4e",
   "metadata": {
    "tags": []
   },
   "outputs": [],
   "source": [
    "Full_path = '/Users/jansen/My Drive/MyPython/QubeSpec/Tutorial/009422_g395m_f290lp_v3.0_extr3_1D.fits'\n",
    "with pyfits.open(Full_path, memmap=False) as hdulist:\n",
    "    flux_orig = hdulist['DATA'].data*1e-7*1e4*1e15 \n",
    "    error =  hdulist['ERR'].data*1e-7*1e4*1e15\n",
    "    fluxm = np.ma.masked_invalid(flux_orig.copy())\n",
    "    wavem = hdulist['wavelength'].data*1e6\n",
    "\n",
    "z = 5.943\n",
    "\n",
    "\n",
    "# Lets quickly plot the spectrum\n",
    "plt.figure()\n",
    "plt.plot( wavem, fluxm, drawstyle='steps-mid')\n",
    "plt.xlabel('wavelength (microns)')\n",
    "plt.ylabel('Flux density - x1e-15 erg/s/um')\n",
    "\n",
    "plt.show()\n"
   ]
  },
  {
   "cell_type": "markdown",
   "id": "7547a5ab-76e1-44ce-b720-bd7e7dc4e4da",
   "metadata": {},
   "source": [
    "The redshit of this galaxy is z=5.943. The restframe wavelength of the Halpha line is 5008 angstroms, so for z=5.943 galaxy we we expect this line at observed wavelength of ~3.5 microns. Lets zoom in around that spectrum"
   ]
  },
  {
   "cell_type": "code",
   "execution_count": null,
   "id": "9111a58b-d29a-48d6-999e-14db3b697f04",
   "metadata": {
    "tags": []
   },
   "outputs": [],
   "source": [
    "plt.figure()\n",
    "plt.plot( wavem, fluxm, drawstyle='steps-mid')\n",
    "plt.xlabel('wavelength (microns)')\n",
    "plt.ylabel('Flux density - x1e-15 erg/s/micron')\n",
    "plt.xlim(3.3, 3.55)\n",
    "plt.show()"
   ]
  },
  {
   "cell_type": "markdown",
   "id": "a37c3cba-1be8-4a3a-822f-8cd847beb3f1",
   "metadata": {},
   "source": [
    "We can see a very bright detection of narrow [OIII], but there is also a fainter line right next to it at 3.38 and 3.41 microns. This is the other part of [OIII] doublet and Hbeta line. There is one at restframe 4960 and 4861 angstroms. When fitting the [OIII]5008, we wil have to fit the [OIII] 4960 (full doublet) as well and the Hbeta 4861. \n",
    "\n",
    "So in summary we will be fitting the following models: \n",
    "1) [OIII]5008,4960 - single Gaussian to each member of the [OIII] doublet.  \n",
    "2) Hbeta  - one gaussian components\n",
    "4) Continuum - We need to fit the continuum. KMOS and SINFONI are not very sensitive to the features of the continuum hence fitting a line with gradient and normalization is enough. For high SNR data (maybe from JWST?) or local galaxies we would have to fit ppxf models - I have never done it though. \n",
    "\n",
    "However, we do not need to fit 3 parameters for each gaussian (peak, location and width) as we can make some assumptions and use some physics.\n",
    "1) First of all we will assume that all of these emission lines are coming from the same gas - hence they will have the same redshift\n",
    "2) Because they are coming from the same gas, they have the samw width - sigma (or FWHM) of the line\n",
    "3) The [OIII] has fixed line ratio between the two lines - the [OIII]4960 line has 1/3 of the flux of the [OIII]5008 line. Since the width of these lines is the same, we can say that the ratio of the peaks of these two lines is 2.99. \n",
    "\n",
    "This drastically reduces the amount of free parameters - from 11 to 6. \n",
    "\n",
    "In order to fit these models we will use least square fitting and emcee. I enjoy this method as it takes care of the errors on each parameter and is more robust searching the parameter space. \n",
    "\n",
    "In the next few sections we will setup the model and then fit it using emcee. Once we understand this, we can start using my code that incorporates all of this.  "
   ]
  },
  {
   "cell_type": "code",
   "execution_count": null,
   "id": "62aea68f-e346-4e53-84a0-440333005836",
   "metadata": {
    "tags": []
   },
   "outputs": [],
   "source": [
    "# Defining the model for fitting emission lines around Halpha including of course Halpha itself. \n",
    "# Setting up a single Gaussian - will be used later \n",
    "def gauss(x, k, mu,FWHM):\n",
    "    sig = FWHM/2.35482/3e5*mu\n",
    "    expo= -((x-mu)**2)/(2*sig*sig) \n",
    "    y= k* e**expo\n",
    "    return y\n",
    "\n",
    "# Setting up the Halpha model:\n",
    "# First we calculate the observed frame wavelengths of the lines\n",
    "# Then we calculate the individfual components - Halpha, [NII] and [SII]\n",
    "# Finally we add all of them together\n",
    "def OIII_Hbeta(x, z, cont,cont_grad,  OIII_peak, Hbeta_peak, Nar_fwhm):\n",
    "    OIIIr_wv = 5008.24*(1+z)/1e4    \n",
    "    OIIIb_wv = 4960.*(1+z)/1e4\n",
    "    Hbeta_wv = 4862.6*(1+z)/1e4\n",
    "    \n",
    "    OIII_nar = gauss(x, OIII_peak, OIIIr_wv, Nar_fwhm) + gauss(x, OIII_peak/2.99, OIIIb_wv, Nar_fwhm)\n",
    "\n",
    "    Hbeta_nar = gauss(x, Hbeta_peak, Hbeta_wv, Nar_fwhm)\n",
    "    continuum = cont+x*cont_grad\n",
    "\n",
    "    return continuum+ OIII_nar + Hbeta_nar\n"
   ]
  },
  {
   "cell_type": "markdown",
   "id": "5fd86add-7e2f-406b-8a7c-abfaf102c246",
   "metadata": {},
   "source": [
    "Next we will prep the data for fitting:\n",
    "1) will only include channels (data) that was not masked. \n",
    "\n",
    "2)  We are not really interested in fitting the whole spectral window. We are only interested in the range our the spectral line. I like to go +- 300 angstroms around the line.\n",
    "\n",
    "3) Lastly, we need to find the value of the peak of the line - we will use this when creating initial conditions. "
   ]
  },
  {
   "cell_type": "code",
   "execution_count": null,
   "id": "419d80ff-c967-4dae-92dd-0cde97e50d0d",
   "metadata": {
    "tags": []
   },
   "outputs": [],
   "source": [
    "flux = fluxm.data[np.invert(fluxm.mask)]\n",
    "wave = wavem[np.invert(fluxm.mask)]\n",
    "    \n",
    "fit_loc = np.where((wave>(5008-300)*(1+z)/1e4)&(wave<(5008+300)*(1+z)/1e4))[0]\n",
    "       \n",
    "sel=  np.where(((wave<(5008+20)*(1+z)/1e4))& (wave>(5008-20)*(1+z)/1e4))[0]\n",
    "flux_zoom = flux[sel]\n",
    "wave_zoom = wave[sel]\n",
    "    \n",
    "peak_loc = np.ma.argmax(flux_zoom)\n",
    "peak = np.ma.max(flux_zoom)"
   ]
  },
  {
   "cell_type": "markdown",
   "id": "0ad083fb",
   "metadata": {},
   "source": [
    "# Least Square fitting\n",
    "\n",
    "We are going to first look into least square fitting, using the scipy's curve_fit function - box standard"
   ]
  },
  {
   "cell_type": "code",
   "execution_count": null,
   "id": "263bf496",
   "metadata": {},
   "outputs": [],
   "source": [
    "from scipy.optimize import curve_fit\n",
    "\n",
    "init_c = [z,np.median(flux),0.01, peak, peak/4, 400. ]\n",
    "\n",
    "popt, pcov = curve_fit(OIII_Hbeta, wave[fit_loc], flux[fit_loc], sigma= error[fit_loc], p0= init_c) "
   ]
  },
  {
   "cell_type": "code",
   "execution_count": null,
   "id": "658b80e0",
   "metadata": {},
   "outputs": [],
   "source": [
    "np.savetxt('/Users/jansen/Downloads/1D_spec_example.txt', (wavem,fluxm, error))\n",
    "x,y,zs = np.loadtxt('/Users/jansen/Downloads/1D_spec_example.txt') \n",
    "\n"
   ]
  },
  {
   "cell_type": "code",
   "execution_count": null,
   "id": "2f6b729c",
   "metadata": {},
   "outputs": [],
   "source": [
    "from astropy.table import Table\n",
    "\n",
    "Save = Table()\n",
    "\n",
    "Save['wave'] = wavem\n",
    "Save['flux'] = fluxm\n",
    "\n",
    "Save.write('/Users/jansen/Downloads/1D_spec_example.csv', format='csv', overwrite=True)\n",
    "Save.write('/Users/jansen/Downloads/1D_spec_example.fits', overwrite=True)\n",
    "\n",
    "Spec = Table.read('/Users/jansen/Downloads/1D_spec_example.csv', format='csv')\n",
    "print(Spec)\n",
    "\n",
    "flux = Spec['flux']"
   ]
  },
  {
   "cell_type": "code",
   "execution_count": null,
   "id": "b341a851",
   "metadata": {},
   "outputs": [],
   "source": [
    "plt.figure()\n",
    "plt.plot( wavem, fluxm, drawstyle='steps-mid')\n",
    "plt.xlabel('wavelength (microns)')\n",
    "plt.ylabel('Flux density - x 1e-15 erg/s/micron')\n",
    "plt.plot(wave, OIII_Hbeta(wave, *popt), 'r--')\n",
    "\n",
    "plt.xlim(3.3,3.5)\n",
    "plt.show()"
   ]
  },
  {
   "cell_type": "code",
   "execution_count": null,
   "id": "1df063ee",
   "metadata": {},
   "outputs": [],
   "source": [
    "print('Best_fit value', popt)\n",
    "print('1 sigma errors', np.sqrt(np.diag(pcov)))\n"
   ]
  },
  {
   "cell_type": "markdown",
   "id": "c81f3090-2e21-4248-9ccd-b40aee99c406",
   "metadata": {},
   "source": [
    "### Calculating SNR\n",
    "\n",
    "we will now calculate the SNR of the line. This can be tricky for emission line, as we need to take into consideration not just the peak channel, but also other inside the emission line profile.\n",
    "\n",
    "The equation we use is as follows: \n",
    "\\begin{equation}\n",
    "SNR =  \\frac{\\sum_i \\rm flux_i}{ (\\sum_i error_i^2)^{1/2}} \n",
    "\\end{equation}\n",
    "\n",
    "Assuming that the errors per channel are the same:\n",
    "\n",
    "\\begin{equation}\n",
    "SNR = \\frac{1}{\\sqrt n} \\sum \\frac{ \\rm flux \\space  density}{\\rm error}\n",
    "\\end{equation}\n",
    "\n",
    "where the flux is the the flux density values at each channel within certain velocity/wavelength range, sigma is the uncertanties on the flux densities (error) and the n is the number of channels across the range of the emission line. "
   ]
  },
  {
   "cell_type": "code",
   "execution_count": null,
   "id": "f9a95d9e-b170-496e-ad2b-a3cd83e2bf07",
   "metadata": {
    "tags": []
   },
   "outputs": [],
   "source": [
    "wv0 = 5008*(1+popt[0])/1e4\n",
    "fwhm = popt[5]\n",
    "fwhm_wv = fwhm/3e5*wv0\n",
    "eml_model = gauss(wave,popt[3], wv0 , fwhm) \n",
    "\n",
    "\n",
    "use = np.where( ((wv0-fwhm_wv)<wave) & (wave< (wv0+fwhm_wv)))[0]\n",
    "flux_sel = eml_model[use]\n",
    "\n",
    "n = len(use)\n",
    "SNR = (sum(flux_sel)/np.sqrt(n)) * (1./error[100])\n",
    "print('SNR of the [OIII] line :', SNR)"
   ]
  },
  {
   "cell_type": "markdown",
   "id": "acdeb806-5d84-4053-9a64-b7e0bb6afa23",
   "metadata": {
    "tags": []
   },
   "source": [
    "the alternative way is to calculate it dirrectly from the MCMC as integrated flux/ error on the integrated flux. See how to caluclate the integrated flux below!\\frac{1}{\\sqrt{n}}\n",
    "\n",
    "\n",
    "## Estimating the integrated flux of the line\n",
    "\n",
    "It is now time to calculate all the properties of the line. The way we setup the fitting, we imddiatly have the emission line width (as FWHM in velocity space), redshift (location of the line). We now need to estimate the total integrated flux of the line. Luckily, for this we just need to integrate the flux density (flux per unit of wavelength) to get total flux. \n",
    "\n",
    "Unlike with SNR, the equation for flux is not dependant on the number of channels so we integrate the gaussian across all the channels (The Gaussian far away from our line is going to be 0, or very close to it). "
   ]
  },
  {
   "cell_type": "code",
   "execution_count": null,
   "id": "0b653ae5-0c81-47f9-a4fa-e624aef0d437",
   "metadata": {
    "tags": []
   },
   "outputs": [],
   "source": [
    "import scipy.integrate as scpi # we will use scipy's integrate simpsons function to do this\n",
    "            \n",
    "wv0 = 5008*(1+popt[0])/1e4\n",
    "fwhm = popt[5]\n",
    "\n",
    "a = 1./(2*(fwhm/3e5*wv0/2.35482)**2)\n",
    "Flux = popt[3]*np.sqrt(np.pi/a) *1e-15 # Remember when I said that we normalize the spectrum earlier? That where the 1e-15 factor comes in\n",
    "\n",
    "\n",
    "print('Flux of the line is: ', Flux, 'ergs/s/cm-2')"
   ]
  }
 ],
 "metadata": {
  "kernelspec": {
   "display_name": "base",
   "language": "python",
   "name": "python3"
  },
  "language_info": {
   "codemirror_mode": {
    "name": "ipython",
    "version": 3
   },
   "file_extension": ".py",
   "mimetype": "text/x-python",
   "name": "python",
   "nbconvert_exporter": "python",
   "pygments_lexer": "ipython3",
   "version": "3.11.5"
  }
 },
 "nbformat": 4,
 "nbformat_minor": 5
}
